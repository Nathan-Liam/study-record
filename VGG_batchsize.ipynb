{
 "cells": [
  {
   "cell_type": "code",
   "execution_count": null,
   "id": "bb2655d0",
   "metadata": {},
   "outputs": [
    {
     "name": "stderr",
     "output_type": "stream",
     "text": [
      "/home/ma-user/anaconda3/envs/PyTorch-1.8.2/lib/python3.7/site-packages/tqdm/auto.py:22: TqdmWarning: IProgress not found. Please update jupyter and ipywidgets. See https://ipywidgets.readthedocs.io/en/stable/user_install.html\n",
      "  from .autonotebook import tqdm as notebook_tqdm\n"
     ]
    },
    {
     "name": "stdout",
     "output_type": "stream",
     "text": [
      "使用设备: cuda:0\n"
     ]
    }
   ],
   "source": [
    "#batchsize选择\n",
    "# 模型定义\n",
    "import torch\n",
    "import torch.nn as nn\n",
    "import torch.optim as optim\n",
    "import torchvision\n",
    "import torchvision.transforms as transforms\n",
    "import time\n",
    "import matplotlib.pyplot as plt\n",
    "import numpy as np\n",
    "from tqdm import *\n",
    "\n",
    "# 设置设备\n",
    "device = torch.device(\"cuda:0\" if torch.cuda.is_available() else \"cpu\")\n",
    "print(f\"使用设备: {device}\")\n",
    "\n",
    "# CIFAR-10的类别\n",
    "classes = ('airplane', 'car', 'bird', 'cat', 'deer', 'dog', 'frog', 'horse', 'ship', 'truck')\n",
    "\n",
    "# 定义VGG网络配置\n",
    "cfg = {\n",
    "    'VGG13': [64, 64, 'M', 128, 128, 'M', 256, 256, 'M', 512, 512, 'M', 512, 512, 'M'],\n",
    "}\n",
    "\n",
    "# 定义VGG网络类\n",
    "class VGG(nn.Module):\n",
    "    def __init__(self, vgg_name):\n",
    "        super(VGG, self).__init__()\n",
    "        self.features = self._make_layers(cfg[vgg_name])\n",
    "        self.classifier = nn.Sequential(\n",
    "            nn.Linear(512, 256),\n",
    "            nn.ReLU(True),\n",
    "            nn.Dropout(0.5),\n",
    "            nn.Linear(256, 64),\n",
    "            nn.ReLU(True),\n",
    "            nn.Dropout(0.5),\n",
    "            nn.Linear(64, 10)\n",
    "        )\n",
    "        self._initialize_weights()\n",
    "        \n",
    "    def forward(self, x):\n",
    "        x = self.features(x)\n",
    "        x = x.view(x.size(0), -1)\n",
    "        x = self.classifier(x)\n",
    "        return x\n",
    "    \n",
    "    def _make_layers(self, cfg):\n",
    "        layers = []\n",
    "        in_channels = 3\n",
    "        for x in cfg:\n",
    "            if x == 'M':\n",
    "                layers += [nn.MaxPool2d(kernel_size=2, stride=2)]\n",
    "            else:\n",
    "                layers += [nn.Conv2d(in_channels, x, kernel_size=3, padding=1),\n",
    "                           nn.BatchNorm2d(x),\n",
    "                           nn.ReLU(inplace=True)]\n",
    "                in_channels = x\n",
    "        return nn.Sequential(*layers)\n",
    "    \n",
    "    def _initialize_weights(self):\n",
    "        for m in self.modules():\n",
    "            if isinstance(m, nn.Conv2d):\n",
    "                nn.init.kaiming_normal_(m.weight, mode='fan_out', nonlinearity='relu')\n",
    "                if m.bias is not None:\n",
    "                    nn.init.constant_(m.bias, 0)\n",
    "            elif isinstance(m, nn.BatchNorm2d):\n",
    "                nn.init.constant_(m.weight, 1)\n",
    "                nn.init.constant_(m.bias, 0)\n",
    "            elif isinstance(m, nn.Linear):\n",
    "                nn.init.normal_(m.weight, 0, 0.01)\n",
    "                nn.init.constant_(m.bias, 0)\n",
    "\n",
    "\n"
   ]
  },
  {
   "cell_type": "code",
   "execution_count": 2,
   "id": "5a3635e5",
   "metadata": {},
   "outputs": [
    {
     "name": "stdout",
     "output_type": "stream",
     "text": [
      "Files already downloaded and verified\n",
      "Files already downloaded and verified\n",
      "开始 VGG-13 ReduceLROnPlateau 批次大小对比实验...\n",
      "\n",
      "开始训练 VGG-13，批次大小 = 64\n",
      "\n",
      "第 1 轮 - Batch Size: 64 (当前lr=0.010000)\n"
     ]
    },
    {
     "name": "stderr",
     "output_type": "stream",
     "text": [
      "Training:Epoch [1/30]: 100%|██████████| 782/782 [00:29<00:00, 26.48it/s, acc=0.244, loss=1.43]\n",
      "Testing:: 100%|██████████| 157/157 [00:01<00:00, 92.03it/s]"
     ]
    },
    {
     "name": "stdout",
     "output_type": "stream",
     "text": [
      "测试 | 损失: 1.481 | 准确率: 39.640% | 用时: 31.9秒 | GPU内存: 0.45GB\n",
      "\n",
      "第 2 轮 - Batch Size: 64 (当前lr=0.010000)\n"
     ]
    },
    {
     "name": "stderr",
     "output_type": "stream",
     "text": [
      "\n",
      "Training:Epoch [2/30]: 100%|██████████| 782/782 [00:29<00:00, 26.08it/s, acc=0.504, loss=1.33] \n",
      "Testing:: 100%|██████████| 157/157 [00:01<00:00, 89.19it/s]"
     ]
    },
    {
     "name": "stdout",
     "output_type": "stream",
     "text": [
      "测试 | 损失: 1.170 | 准确率: 58.700% | 用时: 32.4秒 | GPU内存: 0.45GB\n",
      "\n",
      "第 3 轮 - Batch Size: 64 (当前lr=0.010000)\n"
     ]
    },
    {
     "name": "stderr",
     "output_type": "stream",
     "text": [
      "\n",
      "Training:Epoch [3/30]: 100%|██████████| 782/782 [00:30<00:00, 25.90it/s, acc=0.659, loss=1.58] \n",
      "Testing:: 100%|██████████| 157/157 [00:01<00:00, 85.68it/s]"
     ]
    },
    {
     "name": "stdout",
     "output_type": "stream",
     "text": [
      "测试 | 损失: 0.855 | 准确率: 71.080% | 用时: 32.7秒 | GPU内存: 0.45GB\n",
      "\n",
      "第 4 轮 - Batch Size: 64 (当前lr=0.010000)\n"
     ]
    },
    {
     "name": "stderr",
     "output_type": "stream",
     "text": [
      "\n",
      "Training:Epoch [4/30]: 100%|██████████| 782/782 [00:30<00:00, 25.97it/s, acc=0.732, loss=0.636]\n",
      "Testing:: 100%|██████████| 157/157 [00:01<00:00, 91.26it/s]"
     ]
    },
    {
     "name": "stdout",
     "output_type": "stream",
     "text": [
      "测试 | 损失: 0.911 | 准确率: 70.110% | 用时: 32.5秒 | GPU内存: 0.45GB\n",
      "\n",
      "第 5 轮 - Batch Size: 64 (当前lr=0.010000)\n"
     ]
    },
    {
     "name": "stderr",
     "output_type": "stream",
     "text": [
      "\n",
      "Training:Epoch [5/30]: 100%|██████████| 782/782 [00:29<00:00, 26.07it/s, acc=0.778, loss=0.641]\n",
      "Testing:: 100%|██████████| 157/157 [00:01<00:00, 87.44it/s]"
     ]
    },
    {
     "name": "stdout",
     "output_type": "stream",
     "text": [
      "测试 | 损失: 0.717 | 准确率: 77.620% | 用时: 32.4秒 | GPU内存: 0.45GB\n",
      "\n",
      "第 6 轮 - Batch Size: 64 (当前lr=0.010000)\n"
     ]
    },
    {
     "name": "stderr",
     "output_type": "stream",
     "text": [
      "\n",
      "Training:Epoch [6/30]: 100%|██████████| 782/782 [00:29<00:00, 26.11it/s, acc=0.816, loss=0.534]\n",
      "Testing:: 100%|██████████| 157/157 [00:01<00:00, 92.92it/s]"
     ]
    },
    {
     "name": "stdout",
     "output_type": "stream",
     "text": [
      "测试 | 损失: 0.697 | 准确率: 78.370% | 用时: 32.3秒 | GPU内存: 0.45GB\n",
      "\n",
      "第 7 轮 - Batch Size: 64 (当前lr=0.010000)\n"
     ]
    },
    {
     "name": "stderr",
     "output_type": "stream",
     "text": [
      "\n",
      "Training:Epoch [7/30]: 100%|██████████| 782/782 [00:29<00:00, 26.13it/s, acc=0.843, loss=0.625]\n",
      "Testing:: 100%|██████████| 157/157 [00:01<00:00, 91.82it/s]"
     ]
    },
    {
     "name": "stdout",
     "output_type": "stream",
     "text": [
      "测试 | 损失: 0.672 | 准确率: 79.300% | 用时: 32.3秒 | GPU内存: 0.45GB\n",
      "\n",
      "第 8 轮 - Batch Size: 64 (当前lr=0.010000)\n"
     ]
    },
    {
     "name": "stderr",
     "output_type": "stream",
     "text": [
      "\n",
      "Training:Epoch [8/30]: 100%|██████████| 782/782 [00:29<00:00, 26.11it/s, acc=0.864, loss=0.545]\n",
      "Testing:: 100%|██████████| 157/157 [00:01<00:00, 92.86it/s]"
     ]
    },
    {
     "name": "stdout",
     "output_type": "stream",
     "text": [
      "测试 | 损失: 0.593 | 准确率: 81.950% | 用时: 32.3秒 | GPU内存: 0.45GB\n",
      "\n",
      "第 9 轮 - Batch Size: 64 (当前lr=0.010000)\n"
     ]
    },
    {
     "name": "stderr",
     "output_type": "stream",
     "text": [
      "\n",
      "Training:Epoch [9/30]: 100%|██████████| 782/782 [00:29<00:00, 26.10it/s, acc=0.883, loss=0.133]\n",
      "Testing:: 100%|██████████| 157/157 [00:01<00:00, 91.38it/s]"
     ]
    },
    {
     "name": "stdout",
     "output_type": "stream",
     "text": [
      "测试 | 损失: 0.650 | 准确率: 79.970% | 用时: 32.4秒 | GPU内存: 0.45GB\n",
      "\n",
      "第 10 轮 - Batch Size: 64 (当前lr=0.010000)\n"
     ]
    },
    {
     "name": "stderr",
     "output_type": "stream",
     "text": [
      "\n",
      "Training:Epoch [10/30]: 100%|██████████| 782/782 [00:30<00:00, 26.06it/s, acc=0.9, loss=0.835]   \n",
      "Testing:: 100%|██████████| 157/157 [00:01<00:00, 91.56it/s]"
     ]
    },
    {
     "name": "stdout",
     "output_type": "stream",
     "text": [
      "测试 | 损失: 0.623 | 准确率: 80.660% | 用时: 32.4秒 | GPU内存: 0.45GB\n",
      "\n",
      "第 11 轮 - Batch Size: 64 (当前lr=0.010000)\n"
     ]
    },
    {
     "name": "stderr",
     "output_type": "stream",
     "text": [
      "\n",
      "Training:Epoch [11/30]: 100%|██████████| 782/782 [00:30<00:00, 26.06it/s, acc=0.91, loss=0.187]  \n",
      "Testing:: 100%|██████████| 157/157 [00:01<00:00, 91.01it/s]"
     ]
    },
    {
     "name": "stdout",
     "output_type": "stream",
     "text": [
      "测试 | 损失: 0.668 | 准确率: 81.410% | 用时: 32.4秒 | GPU内存: 0.45GB\n",
      "\n",
      "第 12 轮 - Batch Size: 64 (当前lr=0.010000)\n"
     ]
    },
    {
     "name": "stderr",
     "output_type": "stream",
     "text": [
      "\n",
      "Training:Epoch [12/30]: 100%|██████████| 782/782 [00:30<00:00, 26.02it/s, acc=0.919, loss=0.215] \n",
      "Testing:: 100%|██████████| 157/157 [00:01<00:00, 91.19it/s]"
     ]
    },
    {
     "name": "stdout",
     "output_type": "stream",
     "text": [
      "测试 | 损失: 0.604 | 准确率: 82.550% | 用时: 32.4秒 | GPU内存: 0.45GB\n",
      "\n",
      "第 13 轮 - Batch Size: 64 (当前lr=0.010000)\n"
     ]
    },
    {
     "name": "stderr",
     "output_type": "stream",
     "text": [
      "\n",
      "Training:Epoch [13/30]: 100%|██████████| 782/782 [00:30<00:00, 26.03it/s, acc=0.928, loss=0.442] \n",
      "Testing:: 100%|██████████| 157/157 [00:01<00:00, 91.88it/s]"
     ]
    },
    {
     "name": "stdout",
     "output_type": "stream",
     "text": [
      "测试 | 损失: 0.630 | 准确率: 82.520% | 用时: 32.5秒 | GPU内存: 0.45GB\n",
      "\n",
      "第 14 轮 - Batch Size: 64 (当前lr=0.010000)\n"
     ]
    },
    {
     "name": "stderr",
     "output_type": "stream",
     "text": [
      "\n",
      "Training:Epoch [14/30]: 100%|██████████| 782/782 [00:30<00:00, 25.88it/s, acc=0.937, loss=0.251] \n",
      "Testing:: 100%|██████████| 157/157 [00:01<00:00, 91.84it/s]"
     ]
    },
    {
     "name": "stdout",
     "output_type": "stream",
     "text": [
      "测试 | 损失: 0.652 | 准确率: 82.950% | 用时: 32.6秒 | GPU内存: 0.45GB\n",
      "\n",
      "第 15 轮 - Batch Size: 64 (当前lr=0.010000)\n"
     ]
    },
    {
     "name": "stderr",
     "output_type": "stream",
     "text": [
      "\n",
      "Training:Epoch [15/30]: 100%|██████████| 782/782 [00:30<00:00, 25.91it/s, acc=0.941, loss=0.162] \n",
      "Testing:: 100%|██████████| 157/157 [00:01<00:00, 92.09it/s]"
     ]
    },
    {
     "name": "stdout",
     "output_type": "stream",
     "text": [
      "测试 | 损失: 0.748 | 准确率: 80.750% | 用时: 32.5秒 | GPU内存: 0.45GB\n",
      "\n",
      "第 16 轮 - Batch Size: 64 (当前lr=0.010000)\n"
     ]
    },
    {
     "name": "stderr",
     "output_type": "stream",
     "text": [
      "\n",
      "Training:Epoch [16/30]: 100%|██████████| 782/782 [00:30<00:00, 25.93it/s, acc=0.948, loss=0.0744]\n",
      "Testing:: 100%|██████████| 157/157 [00:01<00:00, 91.40it/s]"
     ]
    },
    {
     "name": "stdout",
     "output_type": "stream",
     "text": [
      "测试 | 损失: 0.713 | 准确率: 82.100% | 用时: 32.5秒 | GPU内存: 0.45GB\n",
      "\n",
      "第 17 轮 - Batch Size: 64 (当前lr=0.010000)\n"
     ]
    },
    {
     "name": "stderr",
     "output_type": "stream",
     "text": [
      "\n",
      "Training:Epoch [17/30]: 100%|██████████| 782/782 [00:30<00:00, 25.91it/s, acc=0.953, loss=0.0193]\n",
      "Testing:: 100%|██████████| 157/157 [00:01<00:00, 92.71it/s]"
     ]
    },
    {
     "name": "stdout",
     "output_type": "stream",
     "text": [
      "测试 | 损失: 0.747 | 准确率: 80.980% | 用时: 32.5秒 | GPU内存: 0.45GB\n",
      "\n",
      "第 18 轮 - Batch Size: 64 (当前lr=0.010000)\n"
     ]
    },
    {
     "name": "stderr",
     "output_type": "stream",
     "text": [
      "\n",
      "Training:Epoch [18/30]: 100%|██████████| 782/782 [00:30<00:00, 25.90it/s, acc=0.959, loss=0.212] \n",
      "Testing:: 100%|██████████| 157/157 [00:01<00:00, 92.23it/s]"
     ]
    },
    {
     "name": "stdout",
     "output_type": "stream",
     "text": [
      "测试 | 损失: 0.627 | 准确率: 83.790% | 用时: 32.6秒 | GPU内存: 0.45GB\n",
      "\n",
      "第 19 轮 - Batch Size: 64 (当前lr=0.010000)\n"
     ]
    },
    {
     "name": "stderr",
     "output_type": "stream",
     "text": [
      "\n",
      "Training:Epoch [19/30]: 100%|██████████| 782/782 [00:30<00:00, 25.99it/s, acc=0.96, loss=0.122]  \n",
      "Testing:: 100%|██████████| 157/157 [00:01<00:00, 92.06it/s]"
     ]
    },
    {
     "name": "stdout",
     "output_type": "stream",
     "text": [
      "测试 | 损失: 0.658 | 准确率: 83.410% | 用时: 32.4秒 | GPU内存: 0.45GB\n",
      "\n",
      "第 20 轮 - Batch Size: 64 (当前lr=0.010000)\n"
     ]
    },
    {
     "name": "stderr",
     "output_type": "stream",
     "text": [
      "\n",
      "Training:Epoch [20/30]: 100%|██████████| 782/782 [00:30<00:00, 26.04it/s, acc=0.963, loss=0.541] \n",
      "Testing:: 100%|██████████| 157/157 [00:01<00:00, 91.59it/s]"
     ]
    },
    {
     "name": "stdout",
     "output_type": "stream",
     "text": [
      "测试 | 损失: 0.710 | 准确率: 82.830% | 用时: 32.4秒 | GPU内存: 0.45GB\n",
      "\n",
      "第 21 轮 - Batch Size: 64 (当前lr=0.010000)\n"
     ]
    },
    {
     "name": "stderr",
     "output_type": "stream",
     "text": [
      "\n",
      "Training:Epoch [21/30]: 100%|██████████| 782/782 [00:30<00:00, 25.93it/s, acc=0.962, loss=0.147] \n",
      "Testing:: 100%|██████████| 157/157 [00:01<00:00, 90.61it/s]"
     ]
    },
    {
     "name": "stdout",
     "output_type": "stream",
     "text": [
      "测试 | 损失: 0.764 | 准确率: 82.450% | 用时: 32.5秒 | GPU内存: 0.45GB\n",
      "\n",
      "第 22 轮 - Batch Size: 64 (当前lr=0.010000)\n"
     ]
    },
    {
     "name": "stderr",
     "output_type": "stream",
     "text": [
      "\n",
      "Training:Epoch [22/30]: 100%|██████████| 782/782 [00:30<00:00, 25.97it/s, acc=0.964, loss=0.047] \n",
      "Testing:: 100%|██████████| 157/157 [00:01<00:00, 91.77it/s]"
     ]
    },
    {
     "name": "stdout",
     "output_type": "stream",
     "text": [
      "测试 | 损失: 0.703 | 准确率: 84.040% | 用时: 32.5秒 | GPU内存: 0.45GB\n",
      "\n",
      "第 23 轮 - Batch Size: 64 (当前lr=0.010000)\n"
     ]
    },
    {
     "name": "stderr",
     "output_type": "stream",
     "text": [
      "\n",
      "Training:Epoch [23/30]: 100%|██████████| 782/782 [00:30<00:00, 26.01it/s, acc=0.97, loss=0.00663] \n",
      "Testing:: 100%|██████████| 157/157 [00:01<00:00, 91.65it/s]"
     ]
    },
    {
     "name": "stdout",
     "output_type": "stream",
     "text": [
      "测试 | 损失: 0.793 | 准确率: 81.670% | 用时: 32.4秒 | GPU内存: 0.45GB\n",
      "\n",
      "第 24 轮 - Batch Size: 64 (当前lr=0.010000)\n"
     ]
    },
    {
     "name": "stderr",
     "output_type": "stream",
     "text": [
      "\n",
      "Training:Epoch [24/30]: 100%|██████████| 782/782 [00:30<00:00, 25.97it/s, acc=0.97, loss=0.126]  \n",
      "Testing:: 100%|██████████| 157/157 [00:01<00:00, 91.77it/s]"
     ]
    },
    {
     "name": "stdout",
     "output_type": "stream",
     "text": [
      "测试 | 损失: 0.745 | 准确率: 82.910% | 用时: 32.5秒 | GPU内存: 0.45GB\n",
      "\n",
      "第 25 轮 - Batch Size: 64 (当前lr=0.010000)\n"
     ]
    },
    {
     "name": "stderr",
     "output_type": "stream",
     "text": [
      "\n",
      "Training:Epoch [25/30]: 100%|██████████| 782/782 [00:30<00:00, 25.99it/s, acc=0.97, loss=0.108]   \n",
      "Testing:: 100%|██████████| 157/157 [00:01<00:00, 92.21it/s]"
     ]
    },
    {
     "name": "stdout",
     "output_type": "stream",
     "text": [
      "测试 | 损失: 0.710 | 准确率: 83.310% | 用时: 32.4秒 | GPU内存: 0.45GB\n",
      "\n",
      "第 26 轮 - Batch Size: 64 (当前lr=0.010000)\n"
     ]
    },
    {
     "name": "stderr",
     "output_type": "stream",
     "text": [
      "\n",
      "Training:Epoch [26/30]: 100%|██████████| 782/782 [00:30<00:00, 26.00it/s, acc=0.971, loss=0.344]  \n",
      "Testing:: 100%|██████████| 157/157 [00:01<00:00, 91.91it/s]"
     ]
    },
    {
     "name": "stdout",
     "output_type": "stream",
     "text": [
      "测试 | 损失: 0.706 | 准确率: 83.520% | 用时: 32.4秒 | GPU内存: 0.45GB\n",
      "\n",
      "第 27 轮 - Batch Size: 64 (当前lr=0.010000)\n"
     ]
    },
    {
     "name": "stderr",
     "output_type": "stream",
     "text": [
      "\n",
      "Training:Epoch [27/30]: 100%|██████████| 782/782 [00:30<00:00, 25.92it/s, acc=0.972, loss=0.12]   \n",
      "Testing:: 100%|██████████| 157/157 [00:01<00:00, 90.53it/s]"
     ]
    },
    {
     "name": "stdout",
     "output_type": "stream",
     "text": [
      "测试 | 损失: 0.736 | 准确率: 82.590% | 用时: 32.5秒 | GPU内存: 0.45GB\n",
      "\n",
      "第 28 轮 - Batch Size: 64 (当前lr=0.010000)\n"
     ]
    },
    {
     "name": "stderr",
     "output_type": "stream",
     "text": [
      "\n",
      "Training:Epoch [28/30]: 100%|██████████| 782/782 [00:30<00:00, 26.01it/s, acc=0.974, loss=0.00893]\n",
      "Testing:: 100%|██████████| 157/157 [00:01<00:00, 91.63it/s]"
     ]
    },
    {
     "name": "stdout",
     "output_type": "stream",
     "text": [
      "测试 | 损失: 0.885 | 准确率: 81.270% | 用时: 32.4秒 | GPU内存: 0.45GB\n",
      "\n",
      "第 29 轮 - Batch Size: 64 (当前lr=0.001000)\n"
     ]
    },
    {
     "name": "stderr",
     "output_type": "stream",
     "text": [
      "\n",
      "Training:Epoch [29/30]: 100%|██████████| 782/782 [00:30<00:00, 26.02it/s, acc=0.992, loss=0.00767]\n",
      "Testing:: 100%|██████████| 157/157 [00:01<00:00, 92.06it/s]"
     ]
    },
    {
     "name": "stdout",
     "output_type": "stream",
     "text": [
      "测试 | 损失: 0.625 | 准确率: 86.500% | 用时: 32.4秒 | GPU内存: 0.45GB\n",
      "\n",
      "第 30 轮 - Batch Size: 64 (当前lr=0.001000)\n"
     ]
    },
    {
     "name": "stderr",
     "output_type": "stream",
     "text": [
      "\n",
      "Training:Epoch [30/30]: 100%|██████████| 782/782 [00:30<00:00, 25.97it/s, acc=0.998, loss=0.0498] \n",
      "Testing:: 100%|██████████| 157/157 [00:01<00:00, 93.57it/s]\n"
     ]
    },
    {
     "name": "stdout",
     "output_type": "stream",
     "text": [
      "测试 | 损失: 0.658 | 准确率: 86.830% | 用时: 32.4秒 | GPU内存: 0.45GB\n",
      "模型已保存为 cifar10_vgg13_bs64.pth\n",
      "\n",
      "开始训练 VGG-13，批次大小 = 128\n",
      "\n",
      "第 1 轮 - Batch Size: 128 (当前lr=0.010000)\n"
     ]
    },
    {
     "name": "stderr",
     "output_type": "stream",
     "text": [
      "Training:Epoch [1/30]: 100%|██████████| 391/391 [00:25<00:00, 15.60it/s, acc=0.161, loss=1.81]\n",
      "Testing:: 100%|██████████| 79/79 [00:01<00:00, 53.91it/s]\n"
     ]
    },
    {
     "name": "stdout",
     "output_type": "stream",
     "text": [
      "测试 | 损失: 1.743 | 准确率: 27.190% | 用时: 27.2秒 | GPU内存: 0.78GB\n",
      "\n",
      "第 2 轮 - Batch Size: 128 (当前lr=0.010000)\n"
     ]
    },
    {
     "name": "stderr",
     "output_type": "stream",
     "text": [
      "Training:Epoch [2/30]: 100%|██████████| 391/391 [00:25<00:00, 15.54it/s, acc=0.364, loss=1.27]\n",
      "Testing:: 100%|██████████| 79/79 [00:01<00:00, 54.51it/s]"
     ]
    },
    {
     "name": "stdout",
     "output_type": "stream",
     "text": [
      "测试 | 损失: 1.384 | 准确率: 48.490% | 用时: 27.3秒 | GPU内存: 0.78GB\n",
      "\n",
      "第 3 轮 - Batch Size: 128 (当前lr=0.010000)\n"
     ]
    },
    {
     "name": "stderr",
     "output_type": "stream",
     "text": [
      "\n",
      "Training:Epoch [3/30]: 100%|██████████| 391/391 [00:25<00:00, 15.58it/s, acc=0.549, loss=1.17] \n",
      "Testing:: 100%|██████████| 79/79 [00:01<00:00, 54.02it/s]\n"
     ]
    },
    {
     "name": "stdout",
     "output_type": "stream",
     "text": [
      "测试 | 损失: 1.090 | 准确率: 60.310% | 用时: 27.2秒 | GPU内存: 0.78GB\n",
      "\n",
      "第 4 轮 - Batch Size: 128 (当前lr=0.010000)\n"
     ]
    },
    {
     "name": "stderr",
     "output_type": "stream",
     "text": [
      "Training:Epoch [4/30]: 100%|██████████| 391/391 [00:25<00:00, 15.59it/s, acc=0.663, loss=1.02] \n",
      "Testing:: 100%|██████████| 79/79 [00:01<00:00, 53.87it/s]"
     ]
    },
    {
     "name": "stdout",
     "output_type": "stream",
     "text": [
      "测试 | 损失: 0.927 | 准确率: 68.450% | 用时: 27.2秒 | GPU内存: 0.78GB\n",
      "\n",
      "第 5 轮 - Batch Size: 128 (当前lr=0.010000)\n"
     ]
    },
    {
     "name": "stderr",
     "output_type": "stream",
     "text": [
      "\n",
      "Training:Epoch [5/30]: 100%|██████████| 391/391 [00:25<00:00, 15.58it/s, acc=0.737, loss=0.667]\n",
      "Testing:: 100%|██████████| 79/79 [00:01<00:00, 53.25it/s]\n"
     ]
    },
    {
     "name": "stdout",
     "output_type": "stream",
     "text": [
      "测试 | 损失: 0.870 | 准确率: 70.750% | 用时: 27.3秒 | GPU内存: 0.78GB\n",
      "\n",
      "第 6 轮 - Batch Size: 128 (当前lr=0.010000)\n"
     ]
    },
    {
     "name": "stderr",
     "output_type": "stream",
     "text": [
      "Training:Epoch [6/30]: 100%|██████████| 391/391 [00:25<00:00, 15.56it/s, acc=0.782, loss=0.759]\n",
      "Testing:: 100%|██████████| 79/79 [00:01<00:00, 53.26it/s]"
     ]
    },
    {
     "name": "stdout",
     "output_type": "stream",
     "text": [
      "测试 | 损失: 0.848 | 准确率: 72.530% | 用时: 27.3秒 | GPU内存: 0.78GB\n",
      "\n",
      "第 7 轮 - Batch Size: 128 (当前lr=0.010000)\n"
     ]
    },
    {
     "name": "stderr",
     "output_type": "stream",
     "text": [
      "\n",
      "Training:Epoch [7/30]: 100%|██████████| 391/391 [00:25<00:00, 15.55it/s, acc=0.819, loss=0.78] \n",
      "Testing:: 100%|██████████| 79/79 [00:01<00:00, 53.90it/s]"
     ]
    },
    {
     "name": "stdout",
     "output_type": "stream",
     "text": [
      "测试 | 损失: 0.725 | 准确率: 77.040% | 用时: 27.3秒 | GPU内存: 0.78GB\n",
      "\n",
      "第 8 轮 - Batch Size: 128 (当前lr=0.010000)\n"
     ]
    },
    {
     "name": "stderr",
     "output_type": "stream",
     "text": [
      "\n",
      "Training:Epoch [8/30]: 100%|██████████| 391/391 [00:25<00:00, 15.55it/s, acc=0.85, loss=0.593] \n",
      "Testing:: 100%|██████████| 79/79 [00:01<00:00, 53.89it/s]\n"
     ]
    },
    {
     "name": "stdout",
     "output_type": "stream",
     "text": [
      "测试 | 损失: 0.920 | 准确率: 72.000% | 用时: 27.3秒 | GPU内存: 0.78GB\n",
      "\n",
      "第 9 轮 - Batch Size: 128 (当前lr=0.010000)\n"
     ]
    },
    {
     "name": "stderr",
     "output_type": "stream",
     "text": [
      "Training:Epoch [9/30]: 100%|██████████| 391/391 [00:25<00:00, 15.55it/s, acc=0.872, loss=0.272]\n",
      "Testing:: 100%|██████████| 79/79 [00:01<00:00, 53.37it/s]"
     ]
    },
    {
     "name": "stdout",
     "output_type": "stream",
     "text": [
      "测试 | 损失: 0.736 | 准确率: 78.110% | 用时: 27.3秒 | GPU内存: 0.78GB\n",
      "\n",
      "第 10 轮 - Batch Size: 128 (当前lr=0.010000)\n"
     ]
    },
    {
     "name": "stderr",
     "output_type": "stream",
     "text": [
      "\n",
      "Training:Epoch [10/30]: 100%|██████████| 391/391 [00:25<00:00, 15.56it/s, acc=0.891, loss=0.408]\n",
      "Testing:: 100%|██████████| 79/79 [00:01<00:00, 53.80it/s]\n"
     ]
    },
    {
     "name": "stdout",
     "output_type": "stream",
     "text": [
      "测试 | 损失: 0.884 | 准确率: 76.410% | 用时: 27.3秒 | GPU内存: 0.78GB\n",
      "\n",
      "第 11 轮 - Batch Size: 128 (当前lr=0.010000)\n"
     ]
    },
    {
     "name": "stderr",
     "output_type": "stream",
     "text": [
      "Training:Epoch [11/30]: 100%|██████████| 391/391 [00:25<00:00, 15.57it/s, acc=0.905, loss=0.278]\n",
      "Testing:: 100%|██████████| 79/79 [00:01<00:00, 54.75it/s]"
     ]
    },
    {
     "name": "stdout",
     "output_type": "stream",
     "text": [
      "测试 | 损失: 0.741 | 准确率: 79.190% | 用时: 27.3秒 | GPU内存: 0.78GB\n",
      "\n",
      "第 12 轮 - Batch Size: 128 (当前lr=0.010000)\n"
     ]
    },
    {
     "name": "stderr",
     "output_type": "stream",
     "text": [
      "\n",
      "Training:Epoch [12/30]: 100%|██████████| 391/391 [00:25<00:00, 15.54it/s, acc=0.918, loss=0.283]\n",
      "Testing:: 100%|██████████| 79/79 [00:01<00:00, 54.46it/s]"
     ]
    },
    {
     "name": "stdout",
     "output_type": "stream",
     "text": [
      "测试 | 损失: 0.694 | 准确率: 80.910% | 用时: 27.3秒 | GPU内存: 0.78GB\n",
      "\n",
      "第 13 轮 - Batch Size: 128 (当前lr=0.010000)\n"
     ]
    },
    {
     "name": "stderr",
     "output_type": "stream",
     "text": [
      "\n",
      "Training:Epoch [13/30]: 100%|██████████| 391/391 [00:25<00:00, 15.53it/s, acc=0.928, loss=0.282]\n",
      "Testing:: 100%|██████████| 79/79 [00:01<00:00, 52.38it/s]"
     ]
    },
    {
     "name": "stdout",
     "output_type": "stream",
     "text": [
      "测试 | 损失: 0.699 | 准确率: 82.100% | 用时: 27.3秒 | GPU内存: 0.78GB\n",
      "\n",
      "第 14 轮 - Batch Size: 128 (当前lr=0.010000)\n"
     ]
    },
    {
     "name": "stderr",
     "output_type": "stream",
     "text": [
      "\n",
      "Training:Epoch [14/30]: 100%|██████████| 391/391 [00:25<00:00, 15.53it/s, acc=0.941, loss=0.245] \n",
      "Testing:: 100%|██████████| 79/79 [00:01<00:00, 53.99it/s]"
     ]
    },
    {
     "name": "stdout",
     "output_type": "stream",
     "text": [
      "测试 | 损失: 0.761 | 准确率: 81.210% | 用时: 27.3秒 | GPU内存: 0.78GB\n",
      "\n",
      "第 15 轮 - Batch Size: 128 (当前lr=0.010000)\n"
     ]
    },
    {
     "name": "stderr",
     "output_type": "stream",
     "text": [
      "\n",
      "Training:Epoch [15/30]: 100%|██████████| 391/391 [00:25<00:00, 15.54it/s, acc=0.949, loss=0.183] \n",
      "Testing:: 100%|██████████| 79/79 [00:01<00:00, 53.06it/s]"
     ]
    },
    {
     "name": "stdout",
     "output_type": "stream",
     "text": [
      "测试 | 损失: 0.860 | 准确率: 79.200% | 用时: 27.3秒 | GPU内存: 0.78GB\n",
      "\n",
      "第 16 轮 - Batch Size: 128 (当前lr=0.010000)\n"
     ]
    },
    {
     "name": "stderr",
     "output_type": "stream",
     "text": [
      "\n",
      "Training:Epoch [16/30]: 100%|██████████| 391/391 [00:25<00:00, 15.54it/s, acc=0.953, loss=0.199] \n",
      "Testing:: 100%|██████████| 79/79 [00:01<00:00, 52.77it/s]"
     ]
    },
    {
     "name": "stdout",
     "output_type": "stream",
     "text": [
      "测试 | 损失: 0.734 | 准确率: 81.930% | 用时: 27.3秒 | GPU内存: 0.78GB\n",
      "\n",
      "第 17 轮 - Batch Size: 128 (当前lr=0.010000)\n"
     ]
    },
    {
     "name": "stderr",
     "output_type": "stream",
     "text": [
      "\n",
      "Training:Epoch [17/30]: 100%|██████████| 391/391 [00:25<00:00, 15.55it/s, acc=0.956, loss=0.0854]\n",
      "Testing:: 100%|██████████| 79/79 [00:01<00:00, 53.08it/s]"
     ]
    },
    {
     "name": "stdout",
     "output_type": "stream",
     "text": [
      "测试 | 损失: 0.802 | 准确率: 81.710% | 用时: 27.3秒 | GPU内存: 0.78GB\n",
      "\n",
      "第 18 轮 - Batch Size: 128 (当前lr=0.010000)\n"
     ]
    },
    {
     "name": "stderr",
     "output_type": "stream",
     "text": [
      "\n",
      "Training:Epoch [18/30]: 100%|██████████| 391/391 [00:25<00:00, 15.53it/s, acc=0.962, loss=0.204] \n",
      "Testing:: 100%|██████████| 79/79 [00:01<00:00, 53.49it/s]\n"
     ]
    },
    {
     "name": "stdout",
     "output_type": "stream",
     "text": [
      "测试 | 损失: 0.851 | 准确率: 81.410% | 用时: 27.3秒 | GPU内存: 0.78GB\n",
      "\n",
      "第 19 轮 - Batch Size: 128 (当前lr=0.010000)\n"
     ]
    },
    {
     "name": "stderr",
     "output_type": "stream",
     "text": [
      "Training:Epoch [19/30]: 100%|██████████| 391/391 [00:25<00:00, 15.55it/s, acc=0.965, loss=0.255] \n",
      "Testing:: 100%|██████████| 79/79 [00:01<00:00, 52.63it/s]"
     ]
    },
    {
     "name": "stdout",
     "output_type": "stream",
     "text": [
      "测试 | 损失: 0.857 | 准确率: 81.060% | 用时: 27.3秒 | GPU内存: 0.78GB\n",
      "\n",
      "第 20 轮 - Batch Size: 128 (当前lr=0.001000)\n"
     ]
    },
    {
     "name": "stderr",
     "output_type": "stream",
     "text": [
      "\n",
      "Training:Epoch [20/30]: 100%|██████████| 391/391 [00:25<00:00, 15.55it/s, acc=0.988, loss=0.0123] \n",
      "Testing:: 100%|██████████| 79/79 [00:01<00:00, 53.18it/s]"
     ]
    },
    {
     "name": "stdout",
     "output_type": "stream",
     "text": [
      "测试 | 损失: 0.697 | 准确率: 84.960% | 用时: 27.3秒 | GPU内存: 0.78GB\n",
      "\n",
      "第 21 轮 - Batch Size: 128 (当前lr=0.001000)\n"
     ]
    },
    {
     "name": "stderr",
     "output_type": "stream",
     "text": [
      "\n",
      "Training:Epoch [21/30]: 100%|██████████| 391/391 [00:25<00:00, 15.56it/s, acc=0.996, loss=0.017]  \n",
      "Testing:: 100%|██████████| 79/79 [00:01<00:00, 53.88it/s]\n"
     ]
    },
    {
     "name": "stdout",
     "output_type": "stream",
     "text": [
      "测试 | 损失: 0.735 | 准确率: 85.370% | 用时: 27.3秒 | GPU内存: 0.78GB\n",
      "\n",
      "第 22 轮 - Batch Size: 128 (当前lr=0.001000)\n"
     ]
    },
    {
     "name": "stderr",
     "output_type": "stream",
     "text": [
      "Training:Epoch [22/30]: 100%|██████████| 391/391 [00:25<00:00, 15.54it/s, acc=0.998, loss=0.00754]\n",
      "Testing:: 100%|██████████| 79/79 [00:01<00:00, 53.10it/s]"
     ]
    },
    {
     "name": "stdout",
     "output_type": "stream",
     "text": [
      "测试 | 损失: 0.773 | 准确率: 85.440% | 用时: 27.3秒 | GPU内存: 0.78GB\n",
      "\n",
      "第 23 轮 - Batch Size: 128 (当前lr=0.001000)\n"
     ]
    },
    {
     "name": "stderr",
     "output_type": "stream",
     "text": [
      "\n",
      "Training:Epoch [23/30]: 100%|██████████| 391/391 [00:25<00:00, 15.54it/s, acc=0.998, loss=0.00447]\n",
      "Testing:: 100%|██████████| 79/79 [00:01<00:00, 53.84it/s]\n"
     ]
    },
    {
     "name": "stdout",
     "output_type": "stream",
     "text": [
      "测试 | 损失: 0.804 | 准确率: 85.600% | 用时: 27.3秒 | GPU内存: 0.78GB\n",
      "\n",
      "第 24 轮 - Batch Size: 128 (当前lr=0.001000)\n"
     ]
    },
    {
     "name": "stderr",
     "output_type": "stream",
     "text": [
      "Training:Epoch [24/30]: 100%|██████████| 391/391 [00:25<00:00, 15.53it/s, acc=0.999, loss=0.00881]\n",
      "Testing:: 100%|██████████| 79/79 [00:01<00:00, 53.36it/s]"
     ]
    },
    {
     "name": "stdout",
     "output_type": "stream",
     "text": [
      "测试 | 损失: 0.828 | 准确率: 85.630% | 用时: 27.3秒 | GPU内存: 0.78GB\n",
      "\n",
      "第 25 轮 - Batch Size: 128 (当前lr=0.001000)\n"
     ]
    },
    {
     "name": "stderr",
     "output_type": "stream",
     "text": [
      "\n",
      "Training:Epoch [25/30]: 100%|██████████| 391/391 [00:25<00:00, 15.54it/s, acc=0.999, loss=0.0119] \n",
      "Testing:: 100%|██████████| 79/79 [00:01<00:00, 52.75it/s]"
     ]
    },
    {
     "name": "stdout",
     "output_type": "stream",
     "text": [
      "测试 | 损失: 0.845 | 准确率: 85.590% | 用时: 27.3秒 | GPU内存: 0.78GB\n",
      "\n",
      "第 26 轮 - Batch Size: 128 (当前lr=0.001000)\n"
     ]
    },
    {
     "name": "stderr",
     "output_type": "stream",
     "text": [
      "\n",
      "Training:Epoch [26/30]: 100%|██████████| 391/391 [00:25<00:00, 15.56it/s, acc=0.999, loss=0.00786] \n",
      "Testing:: 100%|██████████| 79/79 [00:01<00:00, 54.75it/s]"
     ]
    },
    {
     "name": "stdout",
     "output_type": "stream",
     "text": [
      "测试 | 损失: 0.869 | 准确率: 85.630% | 用时: 27.3秒 | GPU内存: 0.78GB\n",
      "\n",
      "第 27 轮 - Batch Size: 128 (当前lr=0.001000)\n"
     ]
    },
    {
     "name": "stderr",
     "output_type": "stream",
     "text": [
      "\n",
      "Training:Epoch [27/30]: 100%|██████████| 391/391 [00:25<00:00, 15.55it/s, acc=0.999, loss=0.00418] \n",
      "Testing:: 100%|██████████| 79/79 [00:01<00:00, 53.29it/s]"
     ]
    },
    {
     "name": "stdout",
     "output_type": "stream",
     "text": [
      "测试 | 损失: 0.888 | 准确率: 85.750% | 用时: 27.3秒 | GPU内存: 0.78GB\n",
      "\n",
      "第 28 轮 - Batch Size: 128 (当前lr=0.001000)\n"
     ]
    },
    {
     "name": "stderr",
     "output_type": "stream",
     "text": [
      "\n",
      "Training:Epoch [28/30]: 100%|██████████| 391/391 [00:25<00:00, 15.53it/s, acc=0.999, loss=0.00171] \n",
      "Testing:: 100%|██████████| 79/79 [00:01<00:00, 53.32it/s]"
     ]
    },
    {
     "name": "stdout",
     "output_type": "stream",
     "text": [
      "测试 | 损失: 0.890 | 准确率: 85.790% | 用时: 27.4秒 | GPU内存: 0.78GB\n",
      "\n",
      "第 29 轮 - Batch Size: 128 (当前lr=0.001000)\n"
     ]
    },
    {
     "name": "stderr",
     "output_type": "stream",
     "text": [
      "\n",
      "Training:Epoch [29/30]: 100%|██████████| 391/391 [00:25<00:00, 15.56it/s, acc=0.999, loss=0.00112] \n",
      "Testing:: 100%|██████████| 79/79 [00:01<00:00, 54.09it/s]"
     ]
    },
    {
     "name": "stdout",
     "output_type": "stream",
     "text": [
      "测试 | 损失: 0.901 | 准确率: 85.750% | 用时: 27.3秒 | GPU内存: 0.78GB\n",
      "\n",
      "第 30 轮 - Batch Size: 128 (当前lr=0.001000)\n"
     ]
    },
    {
     "name": "stderr",
     "output_type": "stream",
     "text": [
      "\n",
      "Training:Epoch [30/30]: 100%|██████████| 391/391 [00:25<00:00, 15.53it/s, acc=0.999, loss=0.00287] \n",
      "Testing:: 100%|██████████| 79/79 [00:01<00:00, 54.15it/s]\n"
     ]
    },
    {
     "name": "stdout",
     "output_type": "stream",
     "text": [
      "测试 | 损失: 0.925 | 准确率: 85.740% | 用时: 27.3秒 | GPU内存: 0.78GB\n",
      "模型已保存为 cifar10_vgg13_bs128.pth\n",
      "\n",
      "开始训练 VGG-13，批次大小 = 256\n",
      "\n",
      "第 1 轮 - Batch Size: 256 (当前lr=0.010000)\n"
     ]
    },
    {
     "name": "stderr",
     "output_type": "stream",
     "text": [
      "Training:Epoch [1/30]: 100%|██████████| 196/196 [00:22<00:00,  8.56it/s, acc=0.122, loss=2.11]\n",
      "Testing:: 100%|██████████| 40/40 [00:01<00:00, 27.96it/s]"
     ]
    },
    {
     "name": "stdout",
     "output_type": "stream",
     "text": [
      "测试 | 损失: 2.144 | 准确率: 17.980% | 用时: 25.1秒 | GPU内存: 1.46GB\n",
      "\n",
      "第 2 轮 - Batch Size: 256 (当前lr=0.010000)\n"
     ]
    },
    {
     "name": "stderr",
     "output_type": "stream",
     "text": [
      "\n",
      "Training:Epoch [2/30]: 100%|██████████| 196/196 [00:22<00:00,  8.57it/s, acc=0.203, loss=1.96]\n",
      "Testing:: 100%|██████████| 40/40 [00:01<00:00, 27.37it/s]"
     ]
    },
    {
     "name": "stdout",
     "output_type": "stream",
     "text": [
      "测试 | 损失: 1.762 | 准确率: 27.790% | 用时: 25.0秒 | GPU内存: 1.46GB\n",
      "\n",
      "第 3 轮 - Batch Size: 256 (当前lr=0.010000)\n"
     ]
    },
    {
     "name": "stderr",
     "output_type": "stream",
     "text": [
      "\n",
      "Training:Epoch [3/30]: 100%|██████████| 196/196 [00:22<00:00,  8.55it/s, acc=0.332, loss=1.67]\n",
      "Testing:: 100%|██████████| 40/40 [00:01<00:00, 26.89it/s]"
     ]
    },
    {
     "name": "stdout",
     "output_type": "stream",
     "text": [
      "测试 | 损失: 1.605 | 准确率: 39.330% | 用时: 25.1秒 | GPU内存: 1.46GB\n",
      "\n",
      "第 4 轮 - Batch Size: 256 (当前lr=0.010000)\n"
     ]
    },
    {
     "name": "stderr",
     "output_type": "stream",
     "text": [
      "\n",
      "Training:Epoch [4/30]: 100%|██████████| 196/196 [00:22<00:00,  8.54it/s, acc=0.466, loss=1.12]\n",
      "Testing:: 100%|██████████| 40/40 [00:01<00:00, 28.17it/s]"
     ]
    },
    {
     "name": "stdout",
     "output_type": "stream",
     "text": [
      "测试 | 损失: 1.648 | 准确率: 39.870% | 用时: 25.0秒 | GPU内存: 1.46GB\n",
      "\n",
      "第 5 轮 - Batch Size: 256 (当前lr=0.010000)\n"
     ]
    },
    {
     "name": "stderr",
     "output_type": "stream",
     "text": [
      "\n",
      "Training:Epoch [5/30]: 100%|██████████| 196/196 [00:22<00:00,  8.57it/s, acc=0.577, loss=1.17] \n",
      "Testing:: 100%|██████████| 40/40 [00:01<00:00, 28.22it/s]"
     ]
    },
    {
     "name": "stdout",
     "output_type": "stream",
     "text": [
      "测试 | 损失: 1.131 | 准确率: 59.780% | 用时: 25.0秒 | GPU内存: 1.46GB\n",
      "\n",
      "第 6 轮 - Batch Size: 256 (当前lr=0.010000)\n"
     ]
    },
    {
     "name": "stderr",
     "output_type": "stream",
     "text": [
      "\n",
      "Training:Epoch [6/30]: 100%|██████████| 196/196 [00:22<00:00,  8.53it/s, acc=0.66, loss=0.88]  \n",
      "Testing:: 100%|██████████| 40/40 [00:01<00:00, 28.06it/s]"
     ]
    },
    {
     "name": "stdout",
     "output_type": "stream",
     "text": [
      "测试 | 损失: 1.007 | 准确率: 65.440% | 用时: 25.1秒 | GPU内存: 1.46GB\n",
      "\n",
      "第 7 轮 - Batch Size: 256 (当前lr=0.010000)\n"
     ]
    },
    {
     "name": "stderr",
     "output_type": "stream",
     "text": [
      "\n",
      "Training:Epoch [7/30]: 100%|██████████| 196/196 [00:22<00:00,  8.54it/s, acc=0.719, loss=0.827]\n",
      "Testing:: 100%|██████████| 40/40 [00:01<00:00, 27.13it/s]"
     ]
    },
    {
     "name": "stdout",
     "output_type": "stream",
     "text": [
      "测试 | 损失: 0.882 | 准确率: 70.410% | 用时: 25.1秒 | GPU内存: 1.46GB\n",
      "\n",
      "第 8 轮 - Batch Size: 256 (当前lr=0.010000)\n"
     ]
    },
    {
     "name": "stderr",
     "output_type": "stream",
     "text": [
      "\n",
      "Training:Epoch [8/30]: 100%|██████████| 196/196 [00:22<00:00,  8.53it/s, acc=0.76, loss=0.81]  \n",
      "Testing:: 100%|██████████| 40/40 [00:01<00:00, 28.04it/s]"
     ]
    },
    {
     "name": "stdout",
     "output_type": "stream",
     "text": [
      "测试 | 损失: 0.882 | 准确率: 70.840% | 用时: 25.1秒 | GPU内存: 1.46GB\n",
      "\n",
      "第 9 轮 - Batch Size: 256 (当前lr=0.010000)\n"
     ]
    },
    {
     "name": "stderr",
     "output_type": "stream",
     "text": [
      "\n",
      "Training:Epoch [9/30]: 100%|██████████| 196/196 [00:22<00:00,  8.54it/s, acc=0.801, loss=0.476]\n",
      "Testing:: 100%|██████████| 40/40 [00:01<00:00, 28.85it/s]"
     ]
    },
    {
     "name": "stdout",
     "output_type": "stream",
     "text": [
      "测试 | 损失: 0.846 | 准确率: 73.680% | 用时: 25.1秒 | GPU内存: 1.46GB\n",
      "\n",
      "第 10 轮 - Batch Size: 256 (当前lr=0.010000)\n"
     ]
    },
    {
     "name": "stderr",
     "output_type": "stream",
     "text": [
      "\n",
      "Training:Epoch [10/30]: 100%|██████████| 196/196 [00:22<00:00,  8.55it/s, acc=0.831, loss=0.359]\n",
      "Testing:: 100%|██████████| 40/40 [00:01<00:00, 27.64it/s]"
     ]
    },
    {
     "name": "stdout",
     "output_type": "stream",
     "text": [
      "测试 | 损失: 0.880 | 准确率: 71.950% | 用时: 25.0秒 | GPU内存: 1.46GB\n",
      "\n",
      "第 11 轮 - Batch Size: 256 (当前lr=0.010000)\n"
     ]
    },
    {
     "name": "stderr",
     "output_type": "stream",
     "text": [
      "\n",
      "Training:Epoch [11/30]: 100%|██████████| 196/196 [00:22<00:00,  8.58it/s, acc=0.856, loss=0.405]\n",
      "Testing:: 100%|██████████| 40/40 [00:01<00:00, 27.80it/s]"
     ]
    },
    {
     "name": "stdout",
     "output_type": "stream",
     "text": [
      "测试 | 损失: 0.967 | 准确率: 73.570% | 用时: 25.0秒 | GPU内存: 1.46GB\n",
      "\n",
      "第 12 轮 - Batch Size: 256 (当前lr=0.010000)\n"
     ]
    },
    {
     "name": "stderr",
     "output_type": "stream",
     "text": [
      "\n",
      "Training:Epoch [12/30]: 100%|██████████| 196/196 [00:22<00:00,  8.58it/s, acc=0.878, loss=0.587]\n",
      "Testing:: 100%|██████████| 40/40 [00:01<00:00, 27.60it/s]"
     ]
    },
    {
     "name": "stdout",
     "output_type": "stream",
     "text": [
      "测试 | 损失: 0.972 | 准确率: 73.800% | 用时: 25.0秒 | GPU内存: 1.46GB\n",
      "\n",
      "第 13 轮 - Batch Size: 256 (当前lr=0.010000)\n"
     ]
    },
    {
     "name": "stderr",
     "output_type": "stream",
     "text": [
      "\n",
      "Training:Epoch [13/30]: 100%|██████████| 196/196 [00:22<00:00,  8.54it/s, acc=0.895, loss=0.61] \n",
      "Testing:: 100%|██████████| 40/40 [00:01<00:00, 28.11it/s]"
     ]
    },
    {
     "name": "stdout",
     "output_type": "stream",
     "text": [
      "测试 | 损失: 0.970 | 准确率: 74.630% | 用时: 25.1秒 | GPU内存: 1.46GB\n",
      "\n",
      "第 14 轮 - Batch Size: 256 (当前lr=0.010000)\n"
     ]
    },
    {
     "name": "stderr",
     "output_type": "stream",
     "text": [
      "\n",
      "Training:Epoch [14/30]: 100%|██████████| 196/196 [00:22<00:00,  8.54it/s, acc=0.912, loss=0.599]\n",
      "Testing:: 100%|██████████| 40/40 [00:01<00:00, 27.29it/s]"
     ]
    },
    {
     "name": "stdout",
     "output_type": "stream",
     "text": [
      "测试 | 损失: 1.110 | 准确率: 73.520% | 用时: 25.1秒 | GPU内存: 1.46GB\n",
      "\n",
      "第 15 轮 - Batch Size: 256 (当前lr=0.010000)\n"
     ]
    },
    {
     "name": "stderr",
     "output_type": "stream",
     "text": [
      "\n",
      "Training:Epoch [15/30]: 100%|██████████| 196/196 [00:22<00:00,  8.59it/s, acc=0.922, loss=0.198]\n",
      "Testing:: 100%|██████████| 40/40 [00:01<00:00, 26.90it/s]"
     ]
    },
    {
     "name": "stdout",
     "output_type": "stream",
     "text": [
      "测试 | 损失: 1.174 | 准确率: 73.530% | 用时: 25.0秒 | GPU内存: 1.46GB\n",
      "\n",
      "第 16 轮 - Batch Size: 256 (当前lr=0.010000)\n"
     ]
    },
    {
     "name": "stderr",
     "output_type": "stream",
     "text": [
      "\n",
      "Training:Epoch [16/30]: 100%|██████████| 196/196 [00:22<00:00,  8.57it/s, acc=0.933, loss=0.572]\n",
      "Testing:: 100%|██████████| 40/40 [00:01<00:00, 27.05it/s]"
     ]
    },
    {
     "name": "stdout",
     "output_type": "stream",
     "text": [
      "测试 | 损失: 1.132 | 准确率: 74.660% | 用时: 25.0秒 | GPU内存: 1.46GB\n",
      "\n",
      "第 17 轮 - Batch Size: 256 (当前lr=0.010000)\n"
     ]
    },
    {
     "name": "stderr",
     "output_type": "stream",
     "text": [
      "\n",
      "Training:Epoch [17/30]: 100%|██████████| 196/196 [00:22<00:00,  8.55it/s, acc=0.94, loss=0.26]  \n",
      "Testing:: 100%|██████████| 40/40 [00:01<00:00, 28.16it/s]"
     ]
    },
    {
     "name": "stdout",
     "output_type": "stream",
     "text": [
      "测试 | 损失: 1.088 | 准确率: 76.200% | 用时: 25.0秒 | GPU内存: 1.46GB\n",
      "\n",
      "第 18 轮 - Batch Size: 256 (当前lr=0.010000)\n"
     ]
    },
    {
     "name": "stderr",
     "output_type": "stream",
     "text": [
      "\n",
      "Training:Epoch [18/30]: 100%|██████████| 196/196 [00:22<00:00,  8.54it/s, acc=0.95, loss=0.296]  \n",
      "Testing:: 100%|██████████| 40/40 [00:01<00:00, 27.44it/s]"
     ]
    },
    {
     "name": "stdout",
     "output_type": "stream",
     "text": [
      "测试 | 损失: 1.094 | 准确率: 76.310% | 用时: 25.1秒 | GPU内存: 1.46GB\n",
      "\n",
      "第 19 轮 - Batch Size: 256 (当前lr=0.010000)\n"
     ]
    },
    {
     "name": "stderr",
     "output_type": "stream",
     "text": [
      "\n",
      "Training:Epoch [19/30]: 100%|██████████| 196/196 [00:22<00:00,  8.55it/s, acc=0.955, loss=0.149] \n",
      "Testing:: 100%|██████████| 40/40 [00:01<00:00, 27.50it/s]"
     ]
    },
    {
     "name": "stdout",
     "output_type": "stream",
     "text": [
      "测试 | 损失: 1.024 | 准确率: 78.020% | 用时: 25.1秒 | GPU内存: 1.46GB\n",
      "\n",
      "第 20 轮 - Batch Size: 256 (当前lr=0.010000)\n"
     ]
    },
    {
     "name": "stderr",
     "output_type": "stream",
     "text": [
      "\n",
      "Training:Epoch [20/30]: 100%|██████████| 196/196 [00:22<00:00,  8.59it/s, acc=0.962, loss=0.0864]\n",
      "Testing:: 100%|██████████| 40/40 [00:01<00:00, 27.49it/s]"
     ]
    },
    {
     "name": "stdout",
     "output_type": "stream",
     "text": [
      "测试 | 损失: 1.422 | 准确率: 73.540% | 用时: 25.0秒 | GPU内存: 1.46GB\n",
      "\n",
      "第 21 轮 - Batch Size: 256 (当前lr=0.010000)\n"
     ]
    },
    {
     "name": "stderr",
     "output_type": "stream",
     "text": [
      "\n",
      "Training:Epoch [21/30]: 100%|██████████| 196/196 [00:22<00:00,  8.56it/s, acc=0.963, loss=0.0863]\n",
      "Testing:: 100%|██████████| 40/40 [00:01<00:00, 26.78it/s]"
     ]
    },
    {
     "name": "stdout",
     "output_type": "stream",
     "text": [
      "测试 | 损失: 1.618 | 准确率: 71.440% | 用时: 25.1秒 | GPU内存: 1.46GB\n",
      "\n",
      "第 22 轮 - Batch Size: 256 (当前lr=0.010000)\n"
     ]
    },
    {
     "name": "stderr",
     "output_type": "stream",
     "text": [
      "\n",
      "Training:Epoch [22/30]: 100%|██████████| 196/196 [00:22<00:00,  8.54it/s, acc=0.97, loss=0.0299] \n",
      "Testing:: 100%|██████████| 40/40 [00:01<00:00, 27.89it/s]"
     ]
    },
    {
     "name": "stdout",
     "output_type": "stream",
     "text": [
      "测试 | 损失: 1.417 | 准确率: 74.550% | 用时: 25.1秒 | GPU内存: 1.46GB\n",
      "\n",
      "第 23 轮 - Batch Size: 256 (当前lr=0.010000)\n"
     ]
    },
    {
     "name": "stderr",
     "output_type": "stream",
     "text": [
      "\n",
      "Training:Epoch [23/30]: 100%|██████████| 196/196 [00:22<00:00,  8.55it/s, acc=0.973, loss=0.101] \n",
      "Testing:: 100%|██████████| 40/40 [00:01<00:00, 27.44it/s]"
     ]
    },
    {
     "name": "stdout",
     "output_type": "stream",
     "text": [
      "测试 | 损失: 1.246 | 准确率: 77.190% | 用时: 25.1秒 | GPU内存: 1.46GB\n",
      "\n",
      "第 24 轮 - Batch Size: 256 (当前lr=0.010000)\n"
     ]
    },
    {
     "name": "stderr",
     "output_type": "stream",
     "text": [
      "\n",
      "Training:Epoch [24/30]: 100%|██████████| 196/196 [00:22<00:00,  8.56it/s, acc=0.973, loss=0.146] \n",
      "Testing:: 100%|██████████| 40/40 [00:01<00:00, 27.42it/s]"
     ]
    },
    {
     "name": "stdout",
     "output_type": "stream",
     "text": [
      "测试 | 损失: 1.134 | 准确率: 78.570% | 用时: 25.1秒 | GPU内存: 1.46GB\n",
      "\n",
      "第 25 轮 - Batch Size: 256 (当前lr=0.010000)\n"
     ]
    },
    {
     "name": "stderr",
     "output_type": "stream",
     "text": [
      "\n",
      "Training:Epoch [25/30]: 100%|██████████| 196/196 [00:22<00:00,  8.56it/s, acc=0.975, loss=0.11]  \n",
      "Testing:: 100%|██████████| 40/40 [00:01<00:00, 27.79it/s]"
     ]
    },
    {
     "name": "stdout",
     "output_type": "stream",
     "text": [
      "测试 | 损失: 0.995 | 准确率: 79.590% | 用时: 25.0秒 | GPU内存: 1.46GB\n",
      "\n",
      "第 26 轮 - Batch Size: 256 (当前lr=0.010000)\n"
     ]
    },
    {
     "name": "stderr",
     "output_type": "stream",
     "text": [
      "\n",
      "Training:Epoch [26/30]: 100%|██████████| 196/196 [00:22<00:00,  8.56it/s, acc=0.978, loss=0.0968]\n",
      "Testing:: 100%|██████████| 40/40 [00:01<00:00, 28.47it/s]"
     ]
    },
    {
     "name": "stdout",
     "output_type": "stream",
     "text": [
      "测试 | 损失: 1.152 | 准确率: 78.450% | 用时: 25.0秒 | GPU内存: 1.46GB\n",
      "\n",
      "第 27 轮 - Batch Size: 256 (当前lr=0.010000)\n"
     ]
    },
    {
     "name": "stderr",
     "output_type": "stream",
     "text": [
      "\n",
      "Training:Epoch [27/30]: 100%|██████████| 196/196 [00:22<00:00,  8.56it/s, acc=0.977, loss=0.0968]\n",
      "Testing:: 100%|██████████| 40/40 [00:01<00:00, 26.93it/s]"
     ]
    },
    {
     "name": "stdout",
     "output_type": "stream",
     "text": [
      "测试 | 损失: 1.063 | 准确率: 79.510% | 用时: 25.1秒 | GPU内存: 1.46GB\n",
      "\n",
      "第 28 轮 - Batch Size: 256 (当前lr=0.010000)\n"
     ]
    },
    {
     "name": "stderr",
     "output_type": "stream",
     "text": [
      "\n",
      "Training:Epoch [28/30]: 100%|██████████| 196/196 [00:22<00:00,  8.54it/s, acc=0.976, loss=0.2]   \n",
      "Testing:: 100%|██████████| 40/40 [00:01<00:00, 26.96it/s]"
     ]
    },
    {
     "name": "stdout",
     "output_type": "stream",
     "text": [
      "测试 | 损失: 1.067 | 准确率: 80.250% | 用时: 25.1秒 | GPU内存: 1.46GB\n",
      "\n",
      "第 29 轮 - Batch Size: 256 (当前lr=0.010000)\n"
     ]
    },
    {
     "name": "stderr",
     "output_type": "stream",
     "text": [
      "\n",
      "Training:Epoch [29/30]: 100%|██████████| 196/196 [00:22<00:00,  8.57it/s, acc=0.981, loss=0.0212]\n",
      "Testing:: 100%|██████████| 40/40 [00:01<00:00, 27.14it/s]"
     ]
    },
    {
     "name": "stdout",
     "output_type": "stream",
     "text": [
      "测试 | 损失: 1.176 | 准确率: 78.430% | 用时: 25.1秒 | GPU内存: 1.46GB\n",
      "\n",
      "第 30 轮 - Batch Size: 256 (当前lr=0.010000)\n"
     ]
    },
    {
     "name": "stderr",
     "output_type": "stream",
     "text": [
      "\n",
      "Training:Epoch [30/30]: 100%|██████████| 196/196 [00:22<00:00,  8.54it/s, acc=0.983, loss=0.0403]\n",
      "Testing:: 100%|██████████| 40/40 [00:01<00:00, 27.55it/s]\n"
     ]
    },
    {
     "name": "stdout",
     "output_type": "stream",
     "text": [
      "测试 | 损失: 1.095 | 准确率: 80.120% | 用时: 25.1秒 | GPU内存: 1.46GB\n",
      "模型已保存为 cifar10_vgg13_bs256.pth\n"
     ]
    }
   ],
   "source": [
    "\n",
    "# 数据预处理\n",
    "transform_train = transforms.Compose([\n",
    "    transforms.ToTensor(),  # 将图像转换为Tensor，同时将像素值从[0, 255]范围缩放到[0.0, 1.0]\n",
    "    transforms.Normalize((0.4914, 0.4822, 0.4465), (0.2023, 0.1994, 0.2010)),\n",
    "])\n",
    "\n",
    "transform_test = transforms.Compose([\n",
    "    transforms.ToTensor(),\n",
    "    transforms.Normalize((0.4914, 0.4822, 0.4465), (0.2023, 0.1994, 0.2010)),\n",
    "])\n",
    "\n",
    "# 加载CIFAR-10数据集\n",
    "trainset = torchvision.datasets.CIFAR10(root='./data', train=True,\n",
    "                                        download=True, transform=transform_train)\n",
    "\n",
    "testset = torchvision.datasets.CIFAR10(root='./data', train=False,\n",
    "                                       download=True, transform=transform_test)\n",
    "\n",
    "\n",
    "# 复用之前定义的VGG13模型\n",
    "model_name = 'VGG13'\n",
    "base_lr = 0.01  # 使用基础学习率\n",
    "\n",
    "# 定义要测试的批次大小\n",
    "batch_sizes_to_test = [64, 128, 256]  # 从小到大的batch size\n",
    "\n",
    "# 实验参数\n",
    "epoch_count = 30  # 训练轮数\n",
    "results = {}\n",
    "\n",
    "def train_model_with_batch_size(model,batch_size, epochs=30):\n",
    "    # 创建数据加载器，使用不同的batch size\n",
    "    trainloader = torch.utils.data.DataLoader(trainset, batch_size=batch_size,\n",
    "                                              shuffle=True, num_workers=8)\n",
    "    testloader = torch.utils.data.DataLoader(testset, batch_size=batch_size,\n",
    "                                             shuffle=False, num_workers=8)\n",
    "    \n",
    "\n",
    "    model = model.to(device)\n",
    "    criterion = nn.CrossEntropyLoss()\n",
    "    optimizer = optim.SGD(model.parameters(), lr=base_lr, momentum=0.9, weight_decay=5e-4)\n",
    "    \n",
    "    # 使用ReduceLROnPlateau调度器\n",
    "    scheduler = optim.lr_scheduler.ReduceLROnPlateau(optimizer, mode='max', factor=0.1, patience=5)\n",
    "    \n",
    "    train_losses = []\n",
    "    train_accs = []\n",
    "    test_losses = []\n",
    "    test_accs = []\n",
    "    times = []\n",
    "    lrs = []  # 记录每个epoch的学习率\n",
    "    memory_usages = []  # 记录内存使用情况\n",
    "    \n",
    "    for epoch in range(1, epochs + 1):\n",
    "        start_time = time.time()\n",
    "        current_lr = optimizer.param_groups[0]['lr']\n",
    "        lrs.append(current_lr)\n",
    "        \n",
    "        print(f'\\n第 {epoch} 轮 - Batch Size: {batch_size} (当前lr={current_lr:.6f})')\n",
    "        model.train()\n",
    "        train_loss = 0\n",
    "        correct = 0\n",
    "        total = 0\n",
    "        loop = tqdm(enumerate(trainloader), total=len(trainloader), \n",
    "                    desc=f'Training:Epoch [{epoch}/{epochs}]')\n",
    "        \n",
    "        for batch_idx, (inputs, targets) in loop:\n",
    "            inputs, targets = inputs.to(device), targets.to(device)\n",
    "            optimizer.zero_grad()\n",
    "            outputs = model(inputs)\n",
    "            loss = criterion(outputs, targets)\n",
    "            loss.backward()\n",
    "            optimizer.step()\n",
    "            \n",
    "            train_loss += loss.item()\n",
    "            _, predicted = outputs.max(1)\n",
    "            total += targets.size(0)\n",
    "            correct += predicted.eq(targets).sum().item()\n",
    "\n",
    "            loop.set_postfix(loss=loss.item(), acc=correct/total)\n",
    "\n",
    "        # 计算训练结果\n",
    "        train_epoch_loss = train_loss / len(trainloader)\n",
    "        train_epoch_acc = 100. * correct / total\n",
    "        train_losses.append(train_epoch_loss)\n",
    "        train_accs.append(train_epoch_acc)\n",
    "        \n",
    "        # 测试\n",
    "        model.eval()\n",
    "        test_loss = 0\n",
    "        correct = 0\n",
    "        total = 0\n",
    "        with torch.no_grad():\n",
    "            for batch_idx, (inputs, targets) in tqdm(enumerate(testloader), \n",
    "                                                  total=len(testloader), \n",
    "                                                  desc=f'Testing:'):\n",
    "                inputs, targets = inputs.to(device), targets.to(device)\n",
    "                outputs = model(inputs)\n",
    "                loss = criterion(outputs, targets)\n",
    "                \n",
    "                test_loss += loss.item()\n",
    "                _, predicted = outputs.max(1)\n",
    "                total += targets.size(0)\n",
    "                correct += predicted.eq(targets).sum().item()\n",
    "        \n",
    "        # 计算测试结果\n",
    "        test_epoch_loss = test_loss / len(testloader)\n",
    "        test_epoch_acc = 100. * correct / total\n",
    "        test_losses.append(test_epoch_loss)\n",
    "        test_accs.append(test_epoch_acc)\n",
    "        \n",
    "        epoch_time = time.time() - start_time\n",
    "        times.append(epoch_time)\n",
    "        \n",
    "        # 估计GPU内存使用（仅当使用CUDA时）\n",
    "        if torch.cuda.is_available():\n",
    "            torch.cuda.empty_cache()\n",
    "            memory_used = torch.cuda.max_memory_allocated() / (1024 ** 3)  # 转换为GB\n",
    "            memory_usages.append(memory_used)\n",
    "            print(f'测试 | 损失: {test_epoch_loss:.3f} | 准确率: {test_epoch_acc:.3f}% | 用时: {epoch_time:.1f}秒 | GPU内存: {memory_used:.2f}GB')\n",
    "        else:\n",
    "            print(f'测试 | 损失: {test_epoch_loss:.3f} | 准确率: {test_epoch_acc:.3f}% | 用时: {epoch_time:.1f}秒')\n",
    "        \n",
    "        # 更新学习率调度器\n",
    "        scheduler.step(test_epoch_acc)  # 根据验证准确率调整\n",
    "    \n",
    "    return {\n",
    "        'train_losses': train_losses,\n",
    "        'train_accs': train_accs,\n",
    "        'test_losses': test_losses,\n",
    "        'test_accs': test_accs,\n",
    "        'times': times,\n",
    "        'lrs': lrs,\n",
    "        'memory_usages': memory_usages if torch.cuda.is_available() else [],\n",
    "        'final_accuracy': test_accs[-1],\n",
    "        'total_time': sum(times),\n",
    "        'avg_iter_time': sum(times) / len(times) / (len(trainset) / batch_size)  # 每批次平均时间\n",
    "    }\n",
    "\n",
    "# 主实验循环\n",
    "print(\"开始 VGG-13 ReduceLROnPlateau 批次大小对比实验...\")\n",
    "\n",
    "# 遍历不同批次大小\n",
    "for batch_size in batch_sizes_to_test:\n",
    "    print(f\"\\n开始训练 VGG-13，批次大小 = {batch_size}\")\n",
    "    # 创建新模型实例\n",
    "    model = VGG(model_name)\n",
    "    \n",
    "    \n",
    "    # 训练模型并记录结果\n",
    "    results[f'BatchSize_{batch_size}'] = train_model_with_batch_size(model,batch_size, epochs=epoch_count)\n",
    "    \n",
    "    # 保存模型\n",
    "    torch.save(model.state_dict(), f'cifar10_vgg13_bs{batch_size}.pth')\n",
    "    print(f\"模型已保存为 cifar10_vgg13_bs{batch_size}.pth\")"
   ]
  },
  {
   "cell_type": "code",
   "execution_count": 4,
   "id": "0c75d4de",
   "metadata": {},
   "outputs": [
    {
     "data": {
      "image/png": "[encoded data removed]",
      "text/plain": [
       "<Figure size 2000x1500 with 5 Axes>"
      ]
     },
     "metadata": {},
     "output_type": "display_data"
    },
    {
     "name": "stdout",
     "output_type": "stream",
     "text": [
      "\n",
      "实验结果总结:\n",
      "----------------------------------------------------------------------------------------------------\n",
      "批次大小            最终准确率           总训练时间           每轮平均时间          每批次平均时间             \n",
      "----------------------------------------------------------------------------------------------------\n",
      "64              86.83          % 972.86         秒 32.43          秒 41.5086             毫秒\n",
      "128             85.74          % 818.80         秒 27.29          秒 69.8707             毫秒\n",
      "256             80.12          % 751.65         秒 25.06          秒 128.2818            毫秒\n",
      "----------------------------------------------------------------------------------------------------\n"
     ]
    }
   ],
   "source": [
    "# 可视化不同批次大小的性能比较\n",
    "plt.figure(figsize=(20, 15))\n",
    "\n",
    "# 显示测试准确率\n",
    "plt.subplot(2, 3, 1)\n",
    "for batch_name in results:\n",
    "    plt.plot(results[batch_name]['test_accs'], label=batch_name)\n",
    "plt.title('Test Accuracy')\n",
    "plt.xlabel('Epoch')\n",
    "plt.ylabel('Accuracy (%)')\n",
    "plt.legend()\n",
    "plt.grid(True)\n",
    "\n",
    "# 显示训练损失\n",
    "plt.subplot(2, 3, 2)\n",
    "for batch_name in results:\n",
    "    plt.plot(results[batch_name]['train_losses'], label=batch_name)\n",
    "plt.title('Training Loss')\n",
    "plt.xlabel('Epoch')\n",
    "plt.ylabel('Loss')\n",
    "plt.legend()\n",
    "plt.grid(True)\n",
    "\n",
    "# 显示测试损失\n",
    "plt.subplot(2, 3, 3)\n",
    "for batch_name in results:\n",
    "    plt.plot(results[batch_name]['test_losses'], label=batch_name)\n",
    "plt.title('Test Loss')\n",
    "plt.xlabel('Epoch')\n",
    "plt.ylabel('Loss')\n",
    "plt.legend()\n",
    "plt.grid(True)\n",
    "\n",
    "# 显示每轮训练时间\n",
    "plt.subplot(2, 3, 4)\n",
    "for batch_name in results:\n",
    "    plt.plot(results[batch_name]['times'], label=batch_name)\n",
    "plt.title('Training Time per Epoch')\n",
    "plt.xlabel('Epoch')\n",
    "plt.ylabel('Time (seconds)')\n",
    "plt.legend()\n",
    "plt.grid(True)\n",
    "\n",
    "# 显示GPU内存使用情况（如果有）\n",
    "if torch.cuda.is_available():\n",
    "    plt.subplot(2, 3, 5)\n",
    "    for batch_name in results:\n",
    "        plt.plot(results[batch_name]['memory_usages'], label=batch_name)\n",
    "    plt.title('GPU Memory Usage')\n",
    "    plt.xlabel('Epoch')\n",
    "    plt.ylabel('Memory (GB)')\n",
    "    plt.legend()\n",
    "    plt.grid(True)\n",
    "\n",
    "plt.tight_layout()\n",
    "plt.savefig('vgg13_batch_size_comparison.png')\n",
    "plt.show()\n",
    "\n",
    "# 显示实验结果总结\n",
    "print(\"\\n实验结果总结:\")\n",
    "print(\"-\" * 100)\n",
    "print(f\"{'批次大小':<15} {'最终准确率':<15} {'总训练时间':<15} {'每轮平均时间':<15} {'每批次平均时间':<20}\")\n",
    "print(\"-\" * 100)\n",
    "\n",
    "for batch_name in results:\n",
    "    batch_size = int(batch_name.split('_')[1])\n",
    "    final_acc = results[batch_name]['final_accuracy']\n",
    "    total_time = results[batch_name]['total_time']\n",
    "    avg_time = total_time / epoch_count\n",
    "    avg_iter_time = results[batch_name]['avg_iter_time']\n",
    "    \n",
    "    print(f\"{batch_size:<15d} {final_acc:<15.2f}% {total_time:<15.2f}秒 {avg_time:<15.2f}秒 {avg_iter_time*1000:<20.4f}毫秒\")\n",
    "\n",
    "print(\"-\" * 100)\n",
    "\n"
   ]
  }
 ],
 "metadata": {
  "kernelspec": {
   "display_name": "PyTorch-1.8.2",
   "language": "python",
   "name": "pytorch-1.8.2"
  },
  "language_info": {
   "codemirror_mode": {
    "name": "ipython",
    "version": 3
   },
   "file_extension": ".py",
   "mimetype": "text/x-python",
   "name": "python",
   "nbconvert_exporter": "python",
   "pygments_lexer": "ipython3",
   "version": "3.7.10"
  }
 },
 "nbformat": 4,
 "nbformat_minor": 5
}

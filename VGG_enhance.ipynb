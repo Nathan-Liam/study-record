{
 "cells": [
  {
   "cell_type": "code",
   "execution_count": null,
   "id": "bbcf5e3f",
   "metadata": {},
   "outputs": [
    {
     "name": "stderr",
     "output_type": "stream",
     "text": [
      "/home/ma-user/anaconda3/envs/PyTorch-1.8.2/lib/python3.7/site-packages/tqdm/auto.py:22: TqdmWarning: IProgress not found. Please update jupyter and ipywidgets. See https://ipywidgets.readthedocs.io/en/stable/user_install.html\n",
      "  from .autonotebook import tqdm as notebook_tqdm\n"
     ]
    },
    {
     "name": "stdout",
     "output_type": "stream",
     "text": [
      "使用设备: cuda:0\n"
     ]
    }
   ],
   "source": [
    "#图像增强\n",
    "# 模型定义\n",
    "import torch\n",
    "import torch.nn as nn\n",
    "import torch.optim as optim\n",
    "import torchvision\n",
    "import torchvision.transforms as transforms\n",
    "import time\n",
    "import matplotlib.pyplot as plt\n",
    "import numpy as np\n",
    "from tqdm import *\n",
    "\n",
    "# 设置设备\n",
    "device = torch.device(\"cuda:0\" if torch.cuda.is_available() else \"cpu\")\n",
    "print(f\"使用设备: {device}\")\n",
    "\n",
    "# CIFAR-10的类别\n",
    "classes = ('airplane', 'car', 'bird', 'cat', 'deer', 'dog', 'frog', 'horse', 'ship', 'truck')\n",
    "\n",
    "# 定义VGG网络配置\n",
    "cfg = {\n",
    "    'VGG13': [64, 64, 'M', 128, 128, 'M', 256, 256, 'M', 512, 512, 'M', 512, 512, 'M'],\n",
    "}\n",
    "\n",
    "# 定义VGG网络类\n",
    "class VGG(nn.Module):\n",
    "    def __init__(self, vgg_name):\n",
    "        super(VGG, self).__init__()\n",
    "        self.features = self._make_layers(cfg[vgg_name])\n",
    "        self.classifier = nn.Sequential(\n",
    "            nn.Linear(512, 256),\n",
    "            nn.ReLU(True),\n",
    "            nn.Dropout(0.5),\n",
    "            nn.Linear(256, 64),\n",
    "            nn.ReLU(True),\n",
    "            nn.Dropout(0.5),\n",
    "            nn.Linear(64, 10)\n",
    "        )\n",
    "        self._initialize_weights()\n",
    "        \n",
    "    def forward(self, x):\n",
    "        x = self.features(x)\n",
    "        x = x.view(x.size(0), -1)\n",
    "        x = self.classifier(x)\n",
    "        return x\n",
    "    \n",
    "    def _make_layers(self, cfg):\n",
    "        layers = []\n",
    "        in_channels = 3\n",
    "        for x in cfg:\n",
    "            if x == 'M':\n",
    "                layers += [nn.MaxPool2d(kernel_size=2, stride=2)]\n",
    "            else:\n",
    "                layers += [nn.Conv2d(in_channels, x, kernel_size=3, padding=1),\n",
    "                           nn.BatchNorm2d(x),\n",
    "                           nn.ReLU(inplace=True)]\n",
    "                in_channels = x\n",
    "        return nn.Sequential(*layers)\n",
    "    \n",
    "    def _initialize_weights(self):\n",
    "        for m in self.modules():\n",
    "            if isinstance(m, nn.Conv2d):\n",
    "                nn.init.kaiming_normal_(m.weight, mode='fan_out', nonlinearity='relu')\n",
    "                if m.bias is not None:\n",
    "                    nn.init.constant_(m.bias, 0)\n",
    "            elif isinstance(m, nn.BatchNorm2d):\n",
    "                nn.init.constant_(m.weight, 1)\n",
    "                nn.init.constant_(m.bias, 0)\n",
    "            elif isinstance(m, nn.Linear):\n",
    "                nn.init.normal_(m.weight, 0, 0.01)\n",
    "                nn.init.constant_(m.bias, 0)\n"
   ]
  },
  {
   "cell_type": "code",
   "execution_count": 2,
   "id": "43ff57a4",
   "metadata": {},
   "outputs": [
    {
     "name": "stdout",
     "output_type": "stream",
     "text": [
      "Files already downloaded and verified\n",
      "Files already downloaded and verified\n"
     ]
    }
   ],
   "source": [
    "\n",
    "# 添加充足的图像增强方法\n",
    "transform_train = transforms.Compose([\n",
    "    transforms.RandomCrop(32, padding=4),           # 随机裁剪，加上padding=4\n",
    "    transforms.RandomHorizontalFlip(),              # 随机水平翻转\n",
    "    transforms.RandomRotation(15),                  # 随机旋转，角度范围±15度\n",
    "    transforms.ColorJitter(                         # 颜色抖动\n",
    "        brightness=0.2,                             # 亮度调整范围\n",
    "        contrast=0.2,                               # 对比度调整范围\n",
    "        saturation=0.2,                             # 饱和度调整范围\n",
    "        hue=0.1                                     # 色调调整范围\n",
    "    ),\n",
    "    transforms.RandomAffine(                        # 随机仿射变换\n",
    "        degrees=0,                                  # 不额外旋转\n",
    "        translate=(0.1, 0.1),                       # 平移范围\n",
    "        scale=(0.9, 1.1),                           # 缩放范围\n",
    "    ),\n",
    "    transforms.ToTensor(),                          # 先转换为Tensor\n",
    "    transforms.Normalize(                           # 然后标准化\n",
    "        (0.4914, 0.4822, 0.4465), \n",
    "        (0.2023, 0.1994, 0.2010)\n",
    "    ),\n",
    "    transforms.RandomErasing(p=0.2, scale=(0.02, 0.2)), # 最后应用随机遮挡\n",
    "])\n",
    "\n",
    "# 测试集不使用数据增强\n",
    "transform_test = transforms.Compose([\n",
    "    transforms.ToTensor(),\n",
    "    transforms.Normalize(\n",
    "        (0.4914, 0.4822, 0.4465), \n",
    "        (0.2023, 0.1994, 0.2010)\n",
    "    ),\n",
    "])\n",
    "\n",
    "# 加载CIFAR-10数据集\n",
    "trainset = torchvision.datasets.CIFAR10(\n",
    "    root='./data', train=True, download=True, transform=transform_train\n",
    ")\n",
    "trainloader = torch.utils.data.DataLoader(\n",
    "    trainset, batch_size=128, shuffle=True, num_workers=8\n",
    ")\n",
    "\n",
    "testset = torchvision.datasets.CIFAR10(\n",
    "    root='./data', train=False, download=True, transform=transform_test\n",
    ")\n",
    "testloader = torch.utils.data.DataLoader(\n",
    "    testset, batch_size=128, shuffle=False, num_workers=8\n",
    ")\n",
    "\n",
    "# 训练模型\n",
    "\n",
    "def train_model(model, trainloader, testloader, criterion, optimizer, scheduler, epochs,history):\n",
    "    \n",
    "    best_acc = 0\n",
    "    \n",
    "    for epoch in range(1, epochs + 1):\n",
    "        # 获取当前学习率\n",
    "        current_lr = optimizer.param_groups[0]['lr']\n",
    "        history['lrs'].append(current_lr)\n",
    "        \n",
    "        print(f'\\n第 {epoch} 轮训练 (学习率 = {current_lr:.6f})')\n",
    "        \n",
    "        # 训练阶段\n",
    "        model.train()\n",
    "        train_loss = 0\n",
    "        correct = 0\n",
    "        total = 0\n",
    "        \n",
    "        loop = tqdm(trainloader, total=len(trainloader), \n",
    "                   desc=f'训练: Epoch [{epoch}/{epochs}]')\n",
    "        \n",
    "        for batch_idx, (inputs, targets) in enumerate(loop):\n",
    "            inputs, targets = inputs.to(device), targets.to(device)\n",
    "            optimizer.zero_grad()\n",
    "            \n",
    "            outputs = model(inputs)\n",
    "            loss = criterion(outputs, targets)\n",
    "            loss.backward()\n",
    "            optimizer.step()\n",
    "            \n",
    "            train_loss += loss.item()\n",
    "            _, predicted = outputs.max(1)\n",
    "            total += targets.size(0)\n",
    "            correct += predicted.eq(targets).sum().item()\n",
    "            \n",
    "            loop.set_postfix(loss=train_loss/(batch_idx+1), acc=100.*correct/total)\n",
    "        \n",
    "        # 计算训练结果\n",
    "        train_epoch_loss = train_loss / len(trainloader)\n",
    "        train_epoch_acc = 100. * correct / total\n",
    "        history['train_losses'].append(train_epoch_loss)\n",
    "        history['train_accs'].append(train_epoch_acc)\n",
    "        \n",
    "        # 测试阶段\n",
    "        model.eval()\n",
    "        test_loss = 0\n",
    "        correct = 0\n",
    "        total = 0\n",
    "        \n",
    "        with torch.no_grad():\n",
    "  \n",
    "            test_loop = tqdm(testloader, total=len(testloader), desc='测试:')\n",
    "            for batch_idx, (inputs, targets) in enumerate(test_loop):\n",
    "                inputs, targets = inputs.to(device), targets.to(device)\n",
    "                outputs = model(inputs)\n",
    "                loss = criterion(outputs, targets)\n",
    "                \n",
    "                test_loss += loss.item()\n",
    "                _, predicted = outputs.max(1)\n",
    "                total += targets.size(0)\n",
    "                correct += predicted.eq(targets).sum().item()\n",
    "        \n",
    "        # 计算测试结果\n",
    "        test_epoch_loss = test_loss / len(testloader)\n",
    "        test_epoch_acc = 100. * correct / total\n",
    "        history['test_losses'].append(test_epoch_loss)\n",
    "        history['test_accs'].append(test_epoch_acc)\n",
    "        \n",
    "        print(f'测试 | 损失: {test_epoch_loss:.3f} | 准确率: {test_epoch_acc:.3f}%')\n",
    "        \n",
    "        # 保存最佳模型\n",
    "        if test_epoch_acc > best_acc:\n",
    "            best_acc = test_epoch_acc\n",
    "            torch.save(model.state_dict(), 'cifar10_vgg13_best.pth')\n",
    "            print(f'Best model saved with accuracy: {best_acc:.2f}%')\n",
    "        \n",
    "        # 更新学习率调度器\n",
    "        scheduler.step(test_epoch_acc)\n",
    "    \n",
    "    # 训练完成，保存最终模型\n",
    "    torch.save(model.state_dict(), 'cifar10_vgg13_final.pth')\n",
    "    print('Final model saved!')\n",
    "    \n",
    "    return model, history\n",
    "\n",
    "\n",
    "model = VGG('VGG13')  # 创建VGG-13模型\n",
    "model = model.to(device)\n",
    "\n",
    "criterion = nn.CrossEntropyLoss()\n",
    "optimizer = optim.SGD(model.parameters(), lr=0.01, momentum=0.9, weight_decay=5e-4)\n",
    "\n",
    "# 创建ReduceLROnPlateau学习率调度器\n",
    "scheduler = optim.lr_scheduler.ReduceLROnPlateau(\n",
    "    optimizer, mode='max', factor=0.1, patience=5, verbose=True\n",
    ")\n",
    "\n",
    "# 记录训练历史\n",
    "history = {\n",
    "    'train_losses': [],\n",
    "    'train_accs': [],\n",
    "    'test_losses': [],\n",
    "    'test_accs': [],\n",
    "    'lrs': []\n",
    "}\n"
   ]
  },
  {
   "cell_type": "code",
   "execution_count": 3,
   "id": "178fd69c",
   "metadata": {},
   "outputs": [
    {
     "name": "stdout",
     "output_type": "stream",
     "text": [
      "\n",
      "第 1 轮训练 (学习率 = 0.010000)\n"
     ]
    },
    {
     "name": "stderr",
     "output_type": "stream",
     "text": [
      "训练: Epoch [1/100]: 100%|██████████| 391/391 [00:25<00:00, 15.34it/s, acc=14.9, loss=2.16]\n",
      "测试:: 100%|██████████| 79/79 [00:01<00:00, 43.36it/s]\n"
     ]
    },
    {
     "name": "stdout",
     "output_type": "stream",
     "text": [
      "测试 | 损失: 1.888 | 准确率: 19.740%\n",
      "Best model saved with accuracy: 19.74%\n",
      "\n",
      "第 2 轮训练 (学习率 = 0.010000)\n"
     ]
    },
    {
     "name": "stderr",
     "output_type": "stream",
     "text": [
      "训练: Epoch [2/100]: 100%|██████████| 391/391 [00:25<00:00, 15.18it/s, acc=23.1, loss=1.88]\n",
      "测试:: 100%|██████████| 79/79 [00:01<00:00, 43.91it/s]\n"
     ]
    },
    {
     "name": "stdout",
     "output_type": "stream",
     "text": [
      "测试 | 损失: 1.640 | 准确率: 31.700%\n",
      "Best model saved with accuracy: 31.70%\n",
      "\n",
      "第 3 轮训练 (学习率 = 0.010000)\n"
     ]
    },
    {
     "name": "stderr",
     "output_type": "stream",
     "text": [
      "训练: Epoch [3/100]: 100%|██████████| 391/391 [00:26<00:00, 15.01it/s, acc=33.5, loss=1.7] \n",
      "测试:: 100%|██████████| 79/79 [00:01<00:00, 43.28it/s]\n"
     ]
    },
    {
     "name": "stdout",
     "output_type": "stream",
     "text": [
      "测试 | 损失: 1.613 | 准确率: 38.490%\n",
      "Best model saved with accuracy: 38.49%\n",
      "\n",
      "第 4 轮训练 (学习率 = 0.010000)\n"
     ]
    },
    {
     "name": "stderr",
     "output_type": "stream",
     "text": [
      "训练: Epoch [4/100]: 100%|██████████| 391/391 [00:25<00:00, 15.05it/s, acc=42.8, loss=1.53]\n",
      "测试:: 100%|██████████| 79/79 [00:01<00:00, 42.85it/s]\n"
     ]
    },
    {
     "name": "stdout",
     "output_type": "stream",
     "text": [
      "测试 | 损失: 1.237 | 准确率: 54.830%\n",
      "Best model saved with accuracy: 54.83%\n",
      "\n",
      "第 5 轮训练 (学习率 = 0.010000)\n"
     ]
    },
    {
     "name": "stderr",
     "output_type": "stream",
     "text": [
      "训练: Epoch [5/100]: 100%|██████████| 391/391 [00:26<00:00, 15.04it/s, acc=50.7, loss=1.38]\n",
      "测试:: 100%|██████████| 79/79 [00:01<00:00, 43.53it/s]\n"
     ]
    },
    {
     "name": "stdout",
     "output_type": "stream",
     "text": [
      "测试 | 损失: 1.229 | 准确率: 57.560%\n",
      "Best model saved with accuracy: 57.56%\n",
      "\n",
      "第 6 轮训练 (学习率 = 0.010000)\n"
     ]
    },
    {
     "name": "stderr",
     "output_type": "stream",
     "text": [
      "训练: Epoch [6/100]: 100%|██████████| 391/391 [00:25<00:00, 15.07it/s, acc=56.3, loss=1.25]\n",
      "测试:: 100%|██████████| 79/79 [00:01<00:00, 43.44it/s]\n"
     ]
    },
    {
     "name": "stdout",
     "output_type": "stream",
     "text": [
      "测试 | 损失: 0.985 | 准确率: 64.020%\n",
      "Best model saved with accuracy: 64.02%\n",
      "\n",
      "第 7 轮训练 (学习率 = 0.010000)\n"
     ]
    },
    {
     "name": "stderr",
     "output_type": "stream",
     "text": [
      "训练: Epoch [7/100]: 100%|██████████| 391/391 [00:25<00:00, 15.22it/s, acc=60.6, loss=1.15]\n",
      "测试:: 100%|██████████| 79/79 [00:01<00:00, 43.75it/s]\n"
     ]
    },
    {
     "name": "stdout",
     "output_type": "stream",
     "text": [
      "测试 | 损失: 0.902 | 准确率: 68.610%\n",
      "Best model saved with accuracy: 68.61%\n",
      "\n",
      "第 8 轮训练 (学习率 = 0.010000)\n"
     ]
    },
    {
     "name": "stderr",
     "output_type": "stream",
     "text": [
      "训练: Epoch [8/100]: 100%|██████████| 391/391 [00:25<00:00, 15.19it/s, acc=63.4, loss=1.08]\n",
      "测试:: 100%|██████████| 79/79 [00:01<00:00, 43.57it/s]\n"
     ]
    },
    {
     "name": "stdout",
     "output_type": "stream",
     "text": [
      "测试 | 损失: 0.874 | 准确率: 69.030%\n",
      "Best model saved with accuracy: 69.03%\n",
      "\n",
      "第 9 轮训练 (学习率 = 0.010000)\n"
     ]
    },
    {
     "name": "stderr",
     "output_type": "stream",
     "text": [
      "训练: Epoch [9/100]: 100%|██████████| 391/391 [00:25<00:00, 15.16it/s, acc=65.9, loss=1.02]\n",
      "测试:: 100%|██████████| 79/79 [00:01<00:00, 43.60it/s]\n"
     ]
    },
    {
     "name": "stdout",
     "output_type": "stream",
     "text": [
      "测试 | 损失: 0.813 | 准确率: 72.790%\n",
      "Best model saved with accuracy: 72.79%\n",
      "\n",
      "第 10 轮训练 (学习率 = 0.010000)\n"
     ]
    },
    {
     "name": "stderr",
     "output_type": "stream",
     "text": [
      "训练: Epoch [10/100]: 100%|██████████| 391/391 [00:25<00:00, 15.13it/s, acc=67.6, loss=0.973]\n",
      "测试:: 100%|██████████| 79/79 [00:01<00:00, 42.86it/s]\n"
     ]
    },
    {
     "name": "stdout",
     "output_type": "stream",
     "text": [
      "测试 | 损失: 0.845 | 准确率: 71.480%\n",
      "\n",
      "第 11 轮训练 (学习率 = 0.010000)\n"
     ]
    },
    {
     "name": "stderr",
     "output_type": "stream",
     "text": [
      "训练: Epoch [11/100]: 100%|██████████| 391/391 [00:25<00:00, 15.18it/s, acc=69.2, loss=0.929]\n",
      "测试:: 100%|██████████| 79/79 [00:01<00:00, 43.43it/s]\n"
     ]
    },
    {
     "name": "stdout",
     "output_type": "stream",
     "text": [
      "测试 | 损失: 0.735 | 准确率: 73.690%\n",
      "Best model saved with accuracy: 73.69%\n",
      "\n",
      "第 12 轮训练 (学习率 = 0.010000)\n"
     ]
    },
    {
     "name": "stderr",
     "output_type": "stream",
     "text": [
      "训练: Epoch [12/100]: 100%|██████████| 391/391 [00:25<00:00, 15.17it/s, acc=70.7, loss=0.891]\n",
      "测试:: 100%|██████████| 79/79 [00:01<00:00, 43.40it/s]\n"
     ]
    },
    {
     "name": "stdout",
     "output_type": "stream",
     "text": [
      "测试 | 损失: 0.703 | 准确率: 76.790%\n",
      "Best model saved with accuracy: 76.79%\n",
      "\n",
      "第 13 轮训练 (学习率 = 0.010000)\n"
     ]
    },
    {
     "name": "stderr",
     "output_type": "stream",
     "text": [
      "训练: Epoch [13/100]: 100%|██████████| 391/391 [00:25<00:00, 15.24it/s, acc=72, loss=0.858]  \n",
      "测试:: 100%|██████████| 79/79 [00:01<00:00, 43.28it/s]\n"
     ]
    },
    {
     "name": "stdout",
     "output_type": "stream",
     "text": [
      "测试 | 损失: 0.676 | 准确率: 77.060%\n",
      "Best model saved with accuracy: 77.06%\n",
      "\n",
      "第 14 轮训练 (学习率 = 0.010000)\n"
     ]
    },
    {
     "name": "stderr",
     "output_type": "stream",
     "text": [
      "训练: Epoch [14/100]: 100%|██████████| 391/391 [00:25<00:00, 15.15it/s, acc=73, loss=0.829]  \n",
      "测试:: 100%|██████████| 79/79 [00:01<00:00, 43.92it/s]\n"
     ]
    },
    {
     "name": "stdout",
     "output_type": "stream",
     "text": [
      "测试 | 损失: 0.618 | 准确率: 79.240%\n",
      "Best model saved with accuracy: 79.24%\n",
      "\n",
      "第 15 轮训练 (学习率 = 0.010000)\n"
     ]
    },
    {
     "name": "stderr",
     "output_type": "stream",
     "text": [
      "训练: Epoch [15/100]: 100%|██████████| 391/391 [00:25<00:00, 15.16it/s, acc=74, loss=0.81]   \n",
      "测试:: 100%|██████████| 79/79 [00:01<00:00, 44.48it/s]\n"
     ]
    },
    {
     "name": "stdout",
     "output_type": "stream",
     "text": [
      "测试 | 损失: 0.628 | 准确率: 79.740%\n",
      "Best model saved with accuracy: 79.74%\n",
      "\n",
      "第 16 轮训练 (学习率 = 0.010000)\n"
     ]
    },
    {
     "name": "stderr",
     "output_type": "stream",
     "text": [
      "训练: Epoch [16/100]: 100%|██████████| 391/391 [00:25<00:00, 15.11it/s, acc=74.5, loss=0.782]\n",
      "测试:: 100%|██████████| 79/79 [00:01<00:00, 43.46it/s]\n"
     ]
    },
    {
     "name": "stdout",
     "output_type": "stream",
     "text": [
      "测试 | 损失: 0.618 | 准确率: 79.540%\n",
      "\n",
      "第 17 轮训练 (学习率 = 0.010000)\n"
     ]
    },
    {
     "name": "stderr",
     "output_type": "stream",
     "text": [
      "训练: Epoch [17/100]: 100%|██████████| 391/391 [00:25<00:00, 15.15it/s, acc=75.4, loss=0.765]\n",
      "测试:: 100%|██████████| 79/79 [00:01<00:00, 43.12it/s]\n"
     ]
    },
    {
     "name": "stdout",
     "output_type": "stream",
     "text": [
      "测试 | 损失: 0.537 | 准确率: 82.240%\n",
      "Best model saved with accuracy: 82.24%\n",
      "\n",
      "第 18 轮训练 (学习率 = 0.010000)\n"
     ]
    },
    {
     "name": "stderr",
     "output_type": "stream",
     "text": [
      "训练: Epoch [18/100]: 100%|██████████| 391/391 [00:25<00:00, 15.11it/s, acc=76.2, loss=0.743]\n",
      "测试:: 100%|██████████| 79/79 [00:01<00:00, 43.88it/s]\n"
     ]
    },
    {
     "name": "stdout",
     "output_type": "stream",
     "text": [
      "测试 | 损失: 0.552 | 准确率: 81.530%\n",
      "\n",
      "第 19 轮训练 (学习率 = 0.010000)\n"
     ]
    },
    {
     "name": "stderr",
     "output_type": "stream",
     "text": [
      "训练: Epoch [19/100]: 100%|██████████| 391/391 [00:25<00:00, 15.13it/s, acc=77.1, loss=0.715]\n",
      "测试:: 100%|██████████| 79/79 [00:01<00:00, 43.79it/s]\n"
     ]
    },
    {
     "name": "stdout",
     "output_type": "stream",
     "text": [
      "测试 | 损失: 0.526 | 准确率: 82.840%\n",
      "Best model saved with accuracy: 82.84%\n",
      "\n",
      "第 20 轮训练 (学习率 = 0.010000)\n"
     ]
    },
    {
     "name": "stderr",
     "output_type": "stream",
     "text": [
      "训练: Epoch [20/100]: 100%|██████████| 391/391 [00:25<00:00, 15.11it/s, acc=77.4, loss=0.711]\n",
      "测试:: 100%|██████████| 79/79 [00:01<00:00, 42.95it/s]\n"
     ]
    },
    {
     "name": "stdout",
     "output_type": "stream",
     "text": [
      "测试 | 损失: 0.606 | 准确率: 80.450%\n",
      "\n",
      "第 21 轮训练 (学习率 = 0.010000)\n"
     ]
    },
    {
     "name": "stderr",
     "output_type": "stream",
     "text": [
      "训练: Epoch [21/100]: 100%|██████████| 391/391 [00:25<00:00, 15.09it/s, acc=78.1, loss=0.686]\n",
      "测试:: 100%|██████████| 79/79 [00:01<00:00, 43.41it/s]\n"
     ]
    },
    {
     "name": "stdout",
     "output_type": "stream",
     "text": [
      "测试 | 损失: 0.509 | 准确率: 83.230%\n",
      "Best model saved with accuracy: 83.23%\n",
      "\n",
      "第 22 轮训练 (学习率 = 0.010000)\n"
     ]
    },
    {
     "name": "stderr",
     "output_type": "stream",
     "text": [
      "训练: Epoch [22/100]: 100%|██████████| 391/391 [00:25<00:00, 15.12it/s, acc=78.6, loss=0.679]\n",
      "测试:: 100%|██████████| 79/79 [00:01<00:00, 43.27it/s]\n"
     ]
    },
    {
     "name": "stdout",
     "output_type": "stream",
     "text": [
      "测试 | 损失: 0.490 | 准确率: 83.730%\n",
      "Best model saved with accuracy: 83.73%\n",
      "\n",
      "第 23 轮训练 (学习率 = 0.010000)\n"
     ]
    },
    {
     "name": "stderr",
     "output_type": "stream",
     "text": [
      "训练: Epoch [23/100]: 100%|██████████| 391/391 [00:25<00:00, 15.11it/s, acc=79, loss=0.657]  \n",
      "测试:: 100%|██████████| 79/79 [00:01<00:00, 43.60it/s]\n"
     ]
    },
    {
     "name": "stdout",
     "output_type": "stream",
     "text": [
      "测试 | 损失: 0.523 | 准确率: 82.400%\n",
      "\n",
      "第 24 轮训练 (学习率 = 0.010000)\n"
     ]
    },
    {
     "name": "stderr",
     "output_type": "stream",
     "text": [
      "训练: Epoch [24/100]: 100%|██████████| 391/391 [00:25<00:00, 15.11it/s, acc=79.4, loss=0.655]\n",
      "测试:: 100%|██████████| 79/79 [00:01<00:00, 43.51it/s]\n"
     ]
    },
    {
     "name": "stdout",
     "output_type": "stream",
     "text": [
      "测试 | 损失: 0.501 | 准确率: 83.710%\n",
      "\n",
      "第 25 轮训练 (学习率 = 0.010000)\n"
     ]
    },
    {
     "name": "stderr",
     "output_type": "stream",
     "text": [
      "训练: Epoch [25/100]: 100%|██████████| 391/391 [00:25<00:00, 15.11it/s, acc=79.9, loss=0.633]\n",
      "测试:: 100%|██████████| 79/79 [00:01<00:00, 43.27it/s]\n"
     ]
    },
    {
     "name": "stdout",
     "output_type": "stream",
     "text": [
      "测试 | 损失: 0.470 | 准确率: 84.480%\n",
      "Best model saved with accuracy: 84.48%\n",
      "\n",
      "第 26 轮训练 (学习率 = 0.010000)\n"
     ]
    },
    {
     "name": "stderr",
     "output_type": "stream",
     "text": [
      "训练: Epoch [26/100]: 100%|██████████| 391/391 [00:25<00:00, 15.11it/s, acc=80.2, loss=0.626]\n",
      "测试:: 100%|██████████| 79/79 [00:01<00:00, 43.55it/s]\n"
     ]
    },
    {
     "name": "stdout",
     "output_type": "stream",
     "text": [
      "测试 | 损失: 0.468 | 准确率: 84.630%\n",
      "Best model saved with accuracy: 84.63%\n",
      "\n",
      "第 27 轮训练 (学习率 = 0.010000)\n"
     ]
    },
    {
     "name": "stderr",
     "output_type": "stream",
     "text": [
      "训练: Epoch [27/100]: 100%|██████████| 391/391 [00:25<00:00, 15.12it/s, acc=80.8, loss=0.611]\n",
      "测试:: 100%|██████████| 79/79 [00:01<00:00, 44.09it/s]\n"
     ]
    },
    {
     "name": "stdout",
     "output_type": "stream",
     "text": [
      "测试 | 损失: 0.527 | 准确率: 82.490%\n",
      "\n",
      "第 28 轮训练 (学习率 = 0.010000)\n"
     ]
    },
    {
     "name": "stderr",
     "output_type": "stream",
     "text": [
      "训练: Epoch [28/100]: 100%|██████████| 391/391 [00:25<00:00, 15.16it/s, acc=81, loss=0.604]  \n",
      "测试:: 100%|██████████| 79/79 [00:01<00:00, 43.47it/s]\n"
     ]
    },
    {
     "name": "stdout",
     "output_type": "stream",
     "text": [
      "测试 | 损失: 0.474 | 准确率: 84.350%\n",
      "\n",
      "第 29 轮训练 (学习率 = 0.010000)\n"
     ]
    },
    {
     "name": "stderr",
     "output_type": "stream",
     "text": [
      "训练: Epoch [29/100]: 100%|██████████| 391/391 [00:25<00:00, 15.08it/s, acc=81.3, loss=0.592]\n",
      "测试:: 100%|██████████| 79/79 [00:01<00:00, 44.20it/s]\n"
     ]
    },
    {
     "name": "stdout",
     "output_type": "stream",
     "text": [
      "测试 | 损失: 0.469 | 准确率: 84.360%\n",
      "\n",
      "第 30 轮训练 (学习率 = 0.010000)\n"
     ]
    },
    {
     "name": "stderr",
     "output_type": "stream",
     "text": [
      "训练: Epoch [30/100]: 100%|██████████| 391/391 [00:25<00:00, 15.12it/s, acc=81.4, loss=0.581]\n",
      "测试:: 100%|██████████| 79/79 [00:01<00:00, 43.35it/s]\n"
     ]
    },
    {
     "name": "stdout",
     "output_type": "stream",
     "text": [
      "测试 | 损失: 0.515 | 准确率: 83.430%\n",
      "\n",
      "第 31 轮训练 (学习率 = 0.010000)\n"
     ]
    },
    {
     "name": "stderr",
     "output_type": "stream",
     "text": [
      "训练: Epoch [31/100]: 100%|██████████| 391/391 [00:25<00:00, 15.11it/s, acc=81.8, loss=0.574]\n",
      "测试:: 100%|██████████| 79/79 [00:01<00:00, 43.42it/s]\n"
     ]
    },
    {
     "name": "stdout",
     "output_type": "stream",
     "text": [
      "测试 | 损失: 0.425 | 准确率: 85.860%\n",
      "Best model saved with accuracy: 85.86%\n",
      "\n",
      "第 32 轮训练 (学习率 = 0.010000)\n"
     ]
    },
    {
     "name": "stderr",
     "output_type": "stream",
     "text": [
      "训练: Epoch [32/100]: 100%|██████████| 391/391 [00:25<00:00, 15.06it/s, acc=82.3, loss=0.559]\n",
      "测试:: 100%|██████████| 79/79 [00:01<00:00, 43.85it/s]\n"
     ]
    },
    {
     "name": "stdout",
     "output_type": "stream",
     "text": [
      "测试 | 损失: 0.398 | 准确率: 86.750%\n",
      "Best model saved with accuracy: 86.75%\n",
      "\n",
      "第 33 轮训练 (学习率 = 0.010000)\n"
     ]
    },
    {
     "name": "stderr",
     "output_type": "stream",
     "text": [
      "训练: Epoch [33/100]: 100%|██████████| 391/391 [00:25<00:00, 15.05it/s, acc=82.5, loss=0.553]\n",
      "测试:: 100%|██████████| 79/79 [00:01<00:00, 43.96it/s]\n"
     ]
    },
    {
     "name": "stdout",
     "output_type": "stream",
     "text": [
      "测试 | 损失: 0.410 | 准确率: 86.340%\n",
      "\n",
      "第 34 轮训练 (学习率 = 0.010000)\n"
     ]
    },
    {
     "name": "stderr",
     "output_type": "stream",
     "text": [
      "训练: Epoch [34/100]: 100%|██████████| 391/391 [00:25<00:00, 15.05it/s, acc=82.8, loss=0.542]\n",
      "测试:: 100%|██████████| 79/79 [00:01<00:00, 43.06it/s]\n"
     ]
    },
    {
     "name": "stdout",
     "output_type": "stream",
     "text": [
      "测试 | 损失: 0.389 | 准确率: 87.220%\n",
      "Best model saved with accuracy: 87.22%\n",
      "\n",
      "第 35 轮训练 (学习率 = 0.010000)\n"
     ]
    },
    {
     "name": "stderr",
     "output_type": "stream",
     "text": [
      "训练: Epoch [35/100]: 100%|██████████| 391/391 [00:26<00:00, 15.01it/s, acc=83.2, loss=0.536]\n",
      "测试:: 100%|██████████| 79/79 [00:01<00:00, 43.47it/s]\n"
     ]
    },
    {
     "name": "stdout",
     "output_type": "stream",
     "text": [
      "测试 | 损失: 0.418 | 准确率: 86.370%\n",
      "\n",
      "第 36 轮训练 (学习率 = 0.010000)\n"
     ]
    },
    {
     "name": "stderr",
     "output_type": "stream",
     "text": [
      "训练: Epoch [36/100]: 100%|██████████| 391/391 [00:25<00:00, 15.05it/s, acc=83.2, loss=0.531]\n",
      "测试:: 100%|██████████| 79/79 [00:01<00:00, 44.01it/s]\n"
     ]
    },
    {
     "name": "stdout",
     "output_type": "stream",
     "text": [
      "测试 | 损失: 0.408 | 准确率: 86.550%\n",
      "\n",
      "第 37 轮训练 (学习率 = 0.010000)\n"
     ]
    },
    {
     "name": "stderr",
     "output_type": "stream",
     "text": [
      "训练: Epoch [37/100]: 100%|██████████| 391/391 [00:26<00:00, 14.99it/s, acc=83.6, loss=0.521]\n",
      "测试:: 100%|██████████| 79/79 [00:01<00:00, 43.33it/s]\n"
     ]
    },
    {
     "name": "stdout",
     "output_type": "stream",
     "text": [
      "测试 | 损失: 0.397 | 准确率: 87.080%\n",
      "\n",
      "第 38 轮训练 (学习率 = 0.010000)\n"
     ]
    },
    {
     "name": "stderr",
     "output_type": "stream",
     "text": [
      "训练: Epoch [38/100]: 100%|██████████| 391/391 [00:26<00:00, 15.03it/s, acc=83.8, loss=0.513]\n",
      "测试:: 100%|██████████| 79/79 [00:01<00:00, 43.81it/s]\n"
     ]
    },
    {
     "name": "stdout",
     "output_type": "stream",
     "text": [
      "测试 | 损失: 0.416 | 准确率: 86.190%\n",
      "\n",
      "第 39 轮训练 (学习率 = 0.010000)\n"
     ]
    },
    {
     "name": "stderr",
     "output_type": "stream",
     "text": [
      "训练: Epoch [39/100]: 100%|██████████| 391/391 [00:25<00:00, 15.04it/s, acc=83.9, loss=0.51] \n",
      "测试:: 100%|██████████| 79/79 [00:01<00:00, 43.78it/s]\n"
     ]
    },
    {
     "name": "stdout",
     "output_type": "stream",
     "text": [
      "测试 | 损失: 0.381 | 准确率: 86.960%\n",
      "\n",
      "第 40 轮训练 (学习率 = 0.010000)\n"
     ]
    },
    {
     "name": "stderr",
     "output_type": "stream",
     "text": [
      "训练: Epoch [40/100]: 100%|██████████| 391/391 [00:25<00:00, 15.09it/s, acc=84, loss=0.506]  \n",
      "测试:: 100%|██████████| 79/79 [00:01<00:00, 43.30it/s]\n"
     ]
    },
    {
     "name": "stdout",
     "output_type": "stream",
     "text": [
      "测试 | 损失: 0.408 | 准确率: 86.710%\n",
      "Epoch    40: reducing learning rate of group 0 to 1.0000e-03.\n",
      "\n",
      "第 41 轮训练 (学习率 = 0.001000)\n"
     ]
    },
    {
     "name": "stderr",
     "output_type": "stream",
     "text": [
      "训练: Epoch [41/100]: 100%|██████████| 391/391 [00:25<00:00, 15.06it/s, acc=87.1, loss=0.411]\n",
      "测试:: 100%|██████████| 79/79 [00:01<00:00, 42.98it/s]\n"
     ]
    },
    {
     "name": "stdout",
     "output_type": "stream",
     "text": [
      "测试 | 损失: 0.311 | 准确率: 89.940%\n",
      "Best model saved with accuracy: 89.94%\n",
      "\n",
      "第 42 轮训练 (学习率 = 0.001000)\n"
     ]
    },
    {
     "name": "stderr",
     "output_type": "stream",
     "text": [
      "训练: Epoch [42/100]: 100%|██████████| 391/391 [00:25<00:00, 15.06it/s, acc=88, loss=0.384]  \n",
      "测试:: 100%|██████████| 79/79 [00:01<00:00, 43.43it/s]\n"
     ]
    },
    {
     "name": "stdout",
     "output_type": "stream",
     "text": [
      "测试 | 损失: 0.299 | 准确率: 90.370%\n",
      "Best model saved with accuracy: 90.37%\n",
      "\n",
      "第 43 轮训练 (学习率 = 0.001000)\n"
     ]
    },
    {
     "name": "stderr",
     "output_type": "stream",
     "text": [
      "训练: Epoch [43/100]: 100%|██████████| 391/391 [00:25<00:00, 15.10it/s, acc=88.3, loss=0.375]\n",
      "测试:: 100%|██████████| 79/79 [00:01<00:00, 43.26it/s]\n"
     ]
    },
    {
     "name": "stdout",
     "output_type": "stream",
     "text": [
      "测试 | 损失: 0.298 | 准确率: 90.460%\n",
      "Best model saved with accuracy: 90.46%\n",
      "\n",
      "第 44 轮训练 (学习率 = 0.001000)\n"
     ]
    },
    {
     "name": "stderr",
     "output_type": "stream",
     "text": [
      "训练: Epoch [44/100]: 100%|██████████| 391/391 [00:25<00:00, 15.08it/s, acc=88.4, loss=0.364]\n",
      "测试:: 100%|██████████| 79/79 [00:01<00:00, 43.57it/s]\n"
     ]
    },
    {
     "name": "stdout",
     "output_type": "stream",
     "text": [
      "测试 | 损失: 0.297 | 准确率: 90.600%\n",
      "Best model saved with accuracy: 90.60%\n",
      "\n",
      "第 45 轮训练 (学习率 = 0.001000)\n"
     ]
    },
    {
     "name": "stderr",
     "output_type": "stream",
     "text": [
      "训练: Epoch [45/100]: 100%|██████████| 391/391 [00:25<00:00, 15.05it/s, acc=88.9, loss=0.354]\n",
      "测试:: 100%|██████████| 79/79 [00:01<00:00, 43.67it/s]\n"
     ]
    },
    {
     "name": "stdout",
     "output_type": "stream",
     "text": [
      "测试 | 损失: 0.290 | 准确率: 90.750%\n",
      "Best model saved with accuracy: 90.75%\n",
      "\n",
      "第 46 轮训练 (学习率 = 0.001000)\n"
     ]
    },
    {
     "name": "stderr",
     "output_type": "stream",
     "text": [
      "训练: Epoch [46/100]: 100%|██████████| 391/391 [00:25<00:00, 15.05it/s, acc=89.1, loss=0.35] \n",
      "测试:: 100%|██████████| 79/79 [00:01<00:00, 43.60it/s]\n"
     ]
    },
    {
     "name": "stdout",
     "output_type": "stream",
     "text": [
      "测试 | 损失: 0.294 | 准确率: 90.840%\n",
      "Best model saved with accuracy: 90.84%\n",
      "\n",
      "第 47 轮训练 (学习率 = 0.001000)\n"
     ]
    },
    {
     "name": "stderr",
     "output_type": "stream",
     "text": [
      "训练: Epoch [47/100]: 100%|██████████| 391/391 [00:25<00:00, 15.08it/s, acc=89.2, loss=0.346]\n",
      "测试:: 100%|██████████| 79/79 [00:01<00:00, 43.40it/s]\n"
     ]
    },
    {
     "name": "stdout",
     "output_type": "stream",
     "text": [
      "测试 | 损失: 0.285 | 准确率: 90.780%\n",
      "\n",
      "第 48 轮训练 (学习率 = 0.001000)\n"
     ]
    },
    {
     "name": "stderr",
     "output_type": "stream",
     "text": [
      "训练: Epoch [48/100]: 100%|██████████| 391/391 [00:25<00:00, 15.05it/s, acc=89.2, loss=0.347]\n",
      "测试:: 100%|██████████| 79/79 [00:01<00:00, 43.33it/s]\n"
     ]
    },
    {
     "name": "stdout",
     "output_type": "stream",
     "text": [
      "测试 | 损失: 0.286 | 准确率: 90.950%\n",
      "Best model saved with accuracy: 90.95%\n",
      "\n",
      "第 49 轮训练 (学习率 = 0.001000)\n"
     ]
    },
    {
     "name": "stderr",
     "output_type": "stream",
     "text": [
      "训练: Epoch [49/100]: 100%|██████████| 391/391 [00:25<00:00, 15.07it/s, acc=89.6, loss=0.335]\n",
      "测试:: 100%|██████████| 79/79 [00:01<00:00, 43.92it/s]\n"
     ]
    },
    {
     "name": "stdout",
     "output_type": "stream",
     "text": [
      "测试 | 损失: 0.286 | 准确率: 91.020%\n",
      "Best model saved with accuracy: 91.02%\n",
      "\n",
      "第 50 轮训练 (学习率 = 0.001000)\n"
     ]
    },
    {
     "name": "stderr",
     "output_type": "stream",
     "text": [
      "训练: Epoch [50/100]: 100%|██████████| 391/391 [00:26<00:00, 15.03it/s, acc=89.4, loss=0.337]\n",
      "测试:: 100%|██████████| 79/79 [00:01<00:00, 44.15it/s]\n"
     ]
    },
    {
     "name": "stdout",
     "output_type": "stream",
     "text": [
      "测试 | 损失: 0.284 | 准确率: 91.080%\n",
      "Best model saved with accuracy: 91.08%\n",
      "\n",
      "第 51 轮训练 (学习率 = 0.001000)\n"
     ]
    },
    {
     "name": "stderr",
     "output_type": "stream",
     "text": [
      "训练: Epoch [51/100]: 100%|██████████| 391/391 [00:25<00:00, 15.07it/s, acc=89.4, loss=0.334]\n",
      "测试:: 100%|██████████| 79/79 [00:01<00:00, 43.54it/s]\n"
     ]
    },
    {
     "name": "stdout",
     "output_type": "stream",
     "text": [
      "测试 | 损失: 0.291 | 准确率: 90.650%\n",
      "\n",
      "第 52 轮训练 (学习率 = 0.001000)\n"
     ]
    },
    {
     "name": "stderr",
     "output_type": "stream",
     "text": [
      "训练: Epoch [52/100]: 100%|██████████| 391/391 [00:25<00:00, 15.07it/s, acc=89.7, loss=0.334]\n",
      "测试:: 100%|██████████| 79/79 [00:01<00:00, 42.56it/s]\n"
     ]
    },
    {
     "name": "stdout",
     "output_type": "stream",
     "text": [
      "测试 | 损失: 0.287 | 准确率: 90.690%\n",
      "\n",
      "第 53 轮训练 (学习率 = 0.001000)\n"
     ]
    },
    {
     "name": "stderr",
     "output_type": "stream",
     "text": [
      "训练: Epoch [53/100]: 100%|██████████| 391/391 [00:25<00:00, 15.04it/s, acc=89.7, loss=0.323]\n",
      "测试:: 100%|██████████| 79/79 [00:01<00:00, 43.85it/s]\n"
     ]
    },
    {
     "name": "stdout",
     "output_type": "stream",
     "text": [
      "测试 | 损失: 0.283 | 准确率: 91.160%\n",
      "Best model saved with accuracy: 91.16%\n",
      "\n",
      "第 54 轮训练 (学习率 = 0.001000)\n"
     ]
    },
    {
     "name": "stderr",
     "output_type": "stream",
     "text": [
      "训练: Epoch [54/100]: 100%|██████████| 391/391 [00:25<00:00, 15.07it/s, acc=90, loss=0.325]  \n",
      "测试:: 100%|██████████| 79/79 [00:01<00:00, 43.18it/s]\n"
     ]
    },
    {
     "name": "stdout",
     "output_type": "stream",
     "text": [
      "测试 | 损失: 0.281 | 准确率: 91.010%\n",
      "\n",
      "第 55 轮训练 (学习率 = 0.001000)\n"
     ]
    },
    {
     "name": "stderr",
     "output_type": "stream",
     "text": [
      "训练: Epoch [55/100]: 100%|██████████| 391/391 [00:25<00:00, 15.05it/s, acc=90.1, loss=0.323]\n",
      "测试:: 100%|██████████| 79/79 [00:01<00:00, 43.17it/s]\n"
     ]
    },
    {
     "name": "stdout",
     "output_type": "stream",
     "text": [
      "测试 | 损失: 0.279 | 准确率: 91.240%\n",
      "Best model saved with accuracy: 91.24%\n",
      "\n",
      "第 56 轮训练 (学习率 = 0.001000)\n"
     ]
    },
    {
     "name": "stderr",
     "output_type": "stream",
     "text": [
      "训练: Epoch [56/100]: 100%|██████████| 391/391 [00:25<00:00, 15.05it/s, acc=90.1, loss=0.316]\n",
      "测试:: 100%|██████████| 79/79 [00:01<00:00, 43.83it/s]\n"
     ]
    },
    {
     "name": "stdout",
     "output_type": "stream",
     "text": [
      "测试 | 损失: 0.281 | 准确率: 91.170%\n",
      "\n",
      "第 57 轮训练 (学习率 = 0.001000)\n"
     ]
    },
    {
     "name": "stderr",
     "output_type": "stream",
     "text": [
      "训练: Epoch [57/100]: 100%|██████████| 391/391 [00:26<00:00, 15.03it/s, acc=90.2, loss=0.311]\n",
      "测试:: 100%|██████████| 79/79 [00:01<00:00, 43.07it/s]\n"
     ]
    },
    {
     "name": "stdout",
     "output_type": "stream",
     "text": [
      "测试 | 损失: 0.280 | 准确率: 91.030%\n",
      "\n",
      "第 58 轮训练 (学习率 = 0.001000)\n"
     ]
    },
    {
     "name": "stderr",
     "output_type": "stream",
     "text": [
      "训练: Epoch [58/100]: 100%|██████████| 391/391 [00:25<00:00, 15.06it/s, acc=90.2, loss=0.313]\n",
      "测试:: 100%|██████████| 79/79 [00:01<00:00, 43.35it/s]\n"
     ]
    },
    {
     "name": "stdout",
     "output_type": "stream",
     "text": [
      "测试 | 损失: 0.278 | 准确率: 91.160%\n",
      "\n",
      "第 59 轮训练 (学习率 = 0.001000)\n"
     ]
    },
    {
     "name": "stderr",
     "output_type": "stream",
     "text": [
      "训练: Epoch [59/100]: 100%|██████████| 391/391 [00:26<00:00, 15.01it/s, acc=90.5, loss=0.31] \n",
      "测试:: 100%|██████████| 79/79 [00:01<00:00, 43.58it/s]\n"
     ]
    },
    {
     "name": "stdout",
     "output_type": "stream",
     "text": [
      "测试 | 损失: 0.282 | 准确率: 90.850%\n",
      "\n",
      "第 60 轮训练 (学习率 = 0.001000)\n"
     ]
    },
    {
     "name": "stderr",
     "output_type": "stream",
     "text": [
      "训练: Epoch [60/100]: 100%|██████████| 391/391 [00:25<00:00, 15.07it/s, acc=90.5, loss=0.302]\n",
      "测试:: 100%|██████████| 79/79 [00:01<00:00, 43.28it/s]\n"
     ]
    },
    {
     "name": "stdout",
     "output_type": "stream",
     "text": [
      "测试 | 损失: 0.279 | 准确率: 91.190%\n",
      "\n",
      "第 61 轮训练 (学习率 = 0.001000)\n"
     ]
    },
    {
     "name": "stderr",
     "output_type": "stream",
     "text": [
      "训练: Epoch [61/100]: 100%|██████████| 391/391 [00:26<00:00, 15.03it/s, acc=90.4, loss=0.306]\n",
      "测试:: 100%|██████████| 79/79 [00:01<00:00, 43.48it/s]\n"
     ]
    },
    {
     "name": "stdout",
     "output_type": "stream",
     "text": [
      "测试 | 损失: 0.278 | 准确率: 91.190%\n",
      "Epoch    61: reducing learning rate of group 0 to 1.0000e-04.\n",
      "\n",
      "第 62 轮训练 (学习率 = 0.000100)\n"
     ]
    },
    {
     "name": "stderr",
     "output_type": "stream",
     "text": [
      "训练: Epoch [62/100]: 100%|██████████| 391/391 [00:25<00:00, 15.04it/s, acc=91, loss=0.295]  \n",
      "测试:: 100%|██████████| 79/79 [00:01<00:00, 42.23it/s]\n"
     ]
    },
    {
     "name": "stdout",
     "output_type": "stream",
     "text": [
      "测试 | 损失: 0.271 | 准确率: 91.520%\n",
      "Best model saved with accuracy: 91.52%\n",
      "\n",
      "第 63 轮训练 (学习率 = 0.000100)\n"
     ]
    },
    {
     "name": "stderr",
     "output_type": "stream",
     "text": [
      "训练: Epoch [63/100]: 100%|██████████| 391/391 [00:25<00:00, 15.10it/s, acc=91.1, loss=0.289]\n",
      "测试:: 100%|██████████| 79/79 [00:01<00:00, 44.25it/s]\n"
     ]
    },
    {
     "name": "stdout",
     "output_type": "stream",
     "text": [
      "测试 | 损失: 0.273 | 准确率: 91.410%\n",
      "\n",
      "第 64 轮训练 (学习率 = 0.000100)\n"
     ]
    },
    {
     "name": "stderr",
     "output_type": "stream",
     "text": [
      "训练: Epoch [64/100]: 100%|██████████| 391/391 [00:25<00:00, 15.10it/s, acc=90.9, loss=0.289]\n",
      "测试:: 100%|██████████| 79/79 [00:01<00:00, 43.35it/s]\n"
     ]
    },
    {
     "name": "stdout",
     "output_type": "stream",
     "text": [
      "测试 | 损失: 0.272 | 准确率: 91.400%\n",
      "\n",
      "第 65 轮训练 (学习率 = 0.000100)\n"
     ]
    },
    {
     "name": "stderr",
     "output_type": "stream",
     "text": [
      "训练: Epoch [65/100]: 100%|██████████| 391/391 [00:26<00:00, 14.99it/s, acc=90.9, loss=0.286]\n",
      "测试:: 100%|██████████| 79/79 [00:01<00:00, 42.64it/s]\n"
     ]
    },
    {
     "name": "stdout",
     "output_type": "stream",
     "text": [
      "测试 | 损失: 0.272 | 准确率: 91.530%\n",
      "Best model saved with accuracy: 91.53%\n",
      "\n",
      "第 66 轮训练 (学习率 = 0.000100)\n"
     ]
    },
    {
     "name": "stderr",
     "output_type": "stream",
     "text": [
      "训练: Epoch [66/100]: 100%|██████████| 391/391 [00:25<00:00, 15.11it/s, acc=91.2, loss=0.286]\n",
      "测试:: 100%|██████████| 79/79 [00:01<00:00, 43.16it/s]\n"
     ]
    },
    {
     "name": "stdout",
     "output_type": "stream",
     "text": [
      "测试 | 损失: 0.271 | 准确率: 91.560%\n",
      "Best model saved with accuracy: 91.56%\n",
      "\n",
      "第 67 轮训练 (学习率 = 0.000100)\n"
     ]
    },
    {
     "name": "stderr",
     "output_type": "stream",
     "text": [
      "训练: Epoch [67/100]: 100%|██████████| 391/391 [00:25<00:00, 15.07it/s, acc=91.2, loss=0.281]\n",
      "测试:: 100%|██████████| 79/79 [00:01<00:00, 43.75it/s]\n"
     ]
    },
    {
     "name": "stdout",
     "output_type": "stream",
     "text": [
      "测试 | 损失: 0.272 | 准确率: 91.450%\n",
      "\n",
      "第 68 轮训练 (学习率 = 0.000100)\n"
     ]
    },
    {
     "name": "stderr",
     "output_type": "stream",
     "text": [
      "训练: Epoch [68/100]: 100%|██████████| 391/391 [00:25<00:00, 15.05it/s, acc=91.1, loss=0.283]\n",
      "测试:: 100%|██████████| 79/79 [00:01<00:00, 43.34it/s]\n"
     ]
    },
    {
     "name": "stdout",
     "output_type": "stream",
     "text": [
      "测试 | 损失: 0.272 | 准确率: 91.510%\n",
      "\n",
      "第 69 轮训练 (学习率 = 0.000100)\n"
     ]
    },
    {
     "name": "stderr",
     "output_type": "stream",
     "text": [
      "训练: Epoch [69/100]: 100%|██████████| 391/391 [00:25<00:00, 15.06it/s, acc=91, loss=0.287]  \n",
      "测试:: 100%|██████████| 79/79 [00:01<00:00, 43.39it/s]\n"
     ]
    },
    {
     "name": "stdout",
     "output_type": "stream",
     "text": [
      "测试 | 损失: 0.272 | 准确率: 91.490%\n",
      "\n",
      "第 70 轮训练 (学习率 = 0.000100)\n"
     ]
    },
    {
     "name": "stderr",
     "output_type": "stream",
     "text": [
      "训练: Epoch [70/100]: 100%|██████████| 391/391 [00:25<00:00, 15.05it/s, acc=91.1, loss=0.282]\n",
      "测试:: 100%|██████████| 79/79 [00:01<00:00, 43.09it/s]\n"
     ]
    },
    {
     "name": "stdout",
     "output_type": "stream",
     "text": [
      "测试 | 损失: 0.271 | 准确率: 91.470%\n",
      "\n",
      "第 71 轮训练 (学习率 = 0.000100)\n"
     ]
    },
    {
     "name": "stderr",
     "output_type": "stream",
     "text": [
      "训练: Epoch [71/100]: 100%|██████████| 391/391 [00:26<00:00, 15.03it/s, acc=91, loss=0.287]  \n",
      "测试:: 100%|██████████| 79/79 [00:01<00:00, 43.48it/s]\n"
     ]
    },
    {
     "name": "stdout",
     "output_type": "stream",
     "text": [
      "测试 | 损失: 0.269 | 准确率: 91.520%\n",
      "\n",
      "第 72 轮训练 (学习率 = 0.000100)\n"
     ]
    },
    {
     "name": "stderr",
     "output_type": "stream",
     "text": [
      "训练: Epoch [72/100]: 100%|██████████| 391/391 [00:25<00:00, 15.05it/s, acc=91.2, loss=0.281]\n",
      "测试:: 100%|██████████| 79/79 [00:01<00:00, 43.91it/s]\n"
     ]
    },
    {
     "name": "stdout",
     "output_type": "stream",
     "text": [
      "测试 | 损失: 0.270 | 准确率: 91.470%\n",
      "Epoch    72: reducing learning rate of group 0 to 1.0000e-05.\n",
      "\n",
      "第 73 轮训练 (学习率 = 0.000010)\n"
     ]
    },
    {
     "name": "stderr",
     "output_type": "stream",
     "text": [
      "训练: Epoch [73/100]: 100%|██████████| 391/391 [00:25<00:00, 15.07it/s, acc=91, loss=0.282]  \n",
      "测试:: 100%|██████████| 79/79 [00:01<00:00, 43.58it/s]\n"
     ]
    },
    {
     "name": "stdout",
     "output_type": "stream",
     "text": [
      "测试 | 损失: 0.270 | 准确率: 91.670%\n",
      "Best model saved with accuracy: 91.67%\n",
      "\n",
      "第 74 轮训练 (学习率 = 0.000010)\n"
     ]
    },
    {
     "name": "stderr",
     "output_type": "stream",
     "text": [
      "训练: Epoch [74/100]: 100%|██████████| 391/391 [00:25<00:00, 15.10it/s, acc=91.2, loss=0.284]\n",
      "测试:: 100%|██████████| 79/79 [00:01<00:00, 43.74it/s]\n"
     ]
    },
    {
     "name": "stdout",
     "output_type": "stream",
     "text": [
      "测试 | 损失: 0.272 | 准确率: 91.430%\n",
      "\n",
      "第 75 轮训练 (学习率 = 0.000010)\n"
     ]
    },
    {
     "name": "stderr",
     "output_type": "stream",
     "text": [
      "训练: Epoch [75/100]: 100%|██████████| 391/391 [00:26<00:00, 15.03it/s, acc=91.2, loss=0.283]\n",
      "测试:: 100%|██████████| 79/79 [00:01<00:00, 43.93it/s]\n"
     ]
    },
    {
     "name": "stdout",
     "output_type": "stream",
     "text": [
      "测试 | 损失: 0.271 | 准确率: 91.450%\n",
      "\n",
      "第 76 轮训练 (学习率 = 0.000010)\n"
     ]
    },
    {
     "name": "stderr",
     "output_type": "stream",
     "text": [
      "训练: Epoch [76/100]: 100%|██████████| 391/391 [00:25<00:00, 15.05it/s, acc=91.2, loss=0.28] \n",
      "测试:: 100%|██████████| 79/79 [00:01<00:00, 43.28it/s]\n"
     ]
    },
    {
     "name": "stdout",
     "output_type": "stream",
     "text": [
      "测试 | 损失: 0.268 | 准确率: 91.650%\n",
      "\n",
      "第 77 轮训练 (学习率 = 0.000010)\n"
     ]
    },
    {
     "name": "stderr",
     "output_type": "stream",
     "text": [
      "训练: Epoch [77/100]: 100%|██████████| 391/391 [00:26<00:00, 14.98it/s, acc=91.2, loss=0.278]\n",
      "测试:: 100%|██████████| 79/79 [00:01<00:00, 43.27it/s]\n"
     ]
    },
    {
     "name": "stdout",
     "output_type": "stream",
     "text": [
      "测试 | 损失: 0.274 | 准确率: 91.380%\n",
      "\n",
      "第 78 轮训练 (学习率 = 0.000010)\n"
     ]
    },
    {
     "name": "stderr",
     "output_type": "stream",
     "text": [
      "训练: Epoch [78/100]: 100%|██████████| 391/391 [00:26<00:00, 15.01it/s, acc=91.1, loss=0.283]\n",
      "测试:: 100%|██████████| 79/79 [00:01<00:00, 43.81it/s]\n"
     ]
    },
    {
     "name": "stdout",
     "output_type": "stream",
     "text": [
      "测试 | 损失: 0.270 | 准确率: 91.550%\n",
      "\n",
      "第 79 轮训练 (学习率 = 0.000010)\n"
     ]
    },
    {
     "name": "stderr",
     "output_type": "stream",
     "text": [
      "训练: Epoch [79/100]: 100%|██████████| 391/391 [00:26<00:00, 15.00it/s, acc=91.3, loss=0.276]\n",
      "测试:: 100%|██████████| 79/79 [00:01<00:00, 43.53it/s]\n"
     ]
    },
    {
     "name": "stdout",
     "output_type": "stream",
     "text": [
      "测试 | 损失: 0.268 | 准确率: 91.550%\n",
      "Epoch    79: reducing learning rate of group 0 to 1.0000e-06.\n",
      "\n",
      "第 80 轮训练 (学习率 = 0.000001)\n"
     ]
    },
    {
     "name": "stderr",
     "output_type": "stream",
     "text": [
      "训练: Epoch [80/100]: 100%|██████████| 391/391 [00:26<00:00, 14.98it/s, acc=91.3, loss=0.28] \n",
      "测试:: 100%|██████████| 79/79 [00:01<00:00, 42.20it/s]\n"
     ]
    },
    {
     "name": "stdout",
     "output_type": "stream",
     "text": [
      "测试 | 损失: 0.271 | 准确率: 91.550%\n",
      "\n",
      "第 81 轮训练 (学习率 = 0.000001)\n"
     ]
    },
    {
     "name": "stderr",
     "output_type": "stream",
     "text": [
      "训练: Epoch [81/100]: 100%|██████████| 391/391 [00:26<00:00, 14.97it/s, acc=91.2, loss=0.28] \n",
      "测试:: 100%|██████████| 79/79 [00:01<00:00, 43.45it/s]\n"
     ]
    },
    {
     "name": "stdout",
     "output_type": "stream",
     "text": [
      "测试 | 损失: 0.272 | 准确率: 91.440%\n",
      "\n",
      "第 82 轮训练 (学习率 = 0.000001)\n"
     ]
    },
    {
     "name": "stderr",
     "output_type": "stream",
     "text": [
      "训练: Epoch [82/100]: 100%|██████████| 391/391 [00:25<00:00, 15.07it/s, acc=91.3, loss=0.279]\n",
      "测试:: 100%|██████████| 79/79 [00:01<00:00, 43.23it/s]\n"
     ]
    },
    {
     "name": "stdout",
     "output_type": "stream",
     "text": [
      "测试 | 损失: 0.269 | 准确率: 91.700%\n",
      "Best model saved with accuracy: 91.70%\n",
      "\n",
      "第 83 轮训练 (学习率 = 0.000001)\n"
     ]
    },
    {
     "name": "stderr",
     "output_type": "stream",
     "text": [
      "训练: Epoch [83/100]: 100%|██████████| 391/391 [00:26<00:00, 15.02it/s, acc=91.4, loss=0.278]\n",
      "测试:: 100%|██████████| 79/79 [00:01<00:00, 42.51it/s]\n"
     ]
    },
    {
     "name": "stdout",
     "output_type": "stream",
     "text": [
      "测试 | 损失: 0.269 | 准确率: 91.560%\n",
      "\n",
      "第 84 轮训练 (学习率 = 0.000001)\n"
     ]
    },
    {
     "name": "stderr",
     "output_type": "stream",
     "text": [
      "训练: Epoch [84/100]: 100%|██████████| 391/391 [00:26<00:00, 14.99it/s, acc=91.2, loss=0.283]\n",
      "测试:: 100%|██████████| 79/79 [00:01<00:00, 43.23it/s]\n"
     ]
    },
    {
     "name": "stdout",
     "output_type": "stream",
     "text": [
      "测试 | 损失: 0.270 | 准确率: 91.590%\n",
      "\n",
      "第 85 轮训练 (学习率 = 0.000001)\n"
     ]
    },
    {
     "name": "stderr",
     "output_type": "stream",
     "text": [
      "训练: Epoch [85/100]: 100%|██████████| 391/391 [00:26<00:00, 15.01it/s, acc=91.3, loss=0.281]\n",
      "测试:: 100%|██████████| 79/79 [00:01<00:00, 43.81it/s]\n"
     ]
    },
    {
     "name": "stdout",
     "output_type": "stream",
     "text": [
      "测试 | 损失: 0.272 | 准确率: 91.500%\n",
      "\n",
      "第 86 轮训练 (学习率 = 0.000001)\n"
     ]
    },
    {
     "name": "stderr",
     "output_type": "stream",
     "text": [
      "训练: Epoch [86/100]: 100%|██████████| 391/391 [00:26<00:00, 15.01it/s, acc=91, loss=0.288]  \n",
      "测试:: 100%|██████████| 79/79 [00:01<00:00, 43.47it/s]\n"
     ]
    },
    {
     "name": "stdout",
     "output_type": "stream",
     "text": [
      "测试 | 损失: 0.270 | 准确率: 91.540%\n",
      "\n",
      "第 87 轮训练 (学习率 = 0.000001)\n"
     ]
    },
    {
     "name": "stderr",
     "output_type": "stream",
     "text": [
      "训练: Epoch [87/100]: 100%|██████████| 391/391 [00:26<00:00, 14.98it/s, acc=91.1, loss=0.283]\n",
      "测试:: 100%|██████████| 79/79 [00:01<00:00, 42.93it/s]\n"
     ]
    },
    {
     "name": "stdout",
     "output_type": "stream",
     "text": [
      "测试 | 损失: 0.271 | 准确率: 91.530%\n",
      "\n",
      "第 88 轮训练 (学习率 = 0.000001)\n"
     ]
    },
    {
     "name": "stderr",
     "output_type": "stream",
     "text": [
      "训练: Epoch [88/100]: 100%|██████████| 391/391 [00:26<00:00, 15.04it/s, acc=91.1, loss=0.283]\n",
      "测试:: 100%|██████████| 79/79 [00:01<00:00, 43.45it/s]\n"
     ]
    },
    {
     "name": "stdout",
     "output_type": "stream",
     "text": [
      "测试 | 损失: 0.269 | 准确率: 91.570%\n",
      "Epoch    88: reducing learning rate of group 0 to 1.0000e-07.\n",
      "\n",
      "第 89 轮训练 (学习率 = 0.000000)\n"
     ]
    },
    {
     "name": "stderr",
     "output_type": "stream",
     "text": [
      "训练: Epoch [89/100]: 100%|██████████| 391/391 [00:26<00:00, 15.00it/s, acc=91.2, loss=0.279]\n",
      "测试:: 100%|██████████| 79/79 [00:01<00:00, 43.30it/s]\n"
     ]
    },
    {
     "name": "stdout",
     "output_type": "stream",
     "text": [
      "测试 | 损失: 0.270 | 准确率: 91.400%\n",
      "\n",
      "第 90 轮训练 (学习率 = 0.000000)\n"
     ]
    },
    {
     "name": "stderr",
     "output_type": "stream",
     "text": [
      "训练: Epoch [90/100]: 100%|██████████| 391/391 [00:26<00:00, 15.01it/s, acc=91.2, loss=0.28] \n",
      "测试:: 100%|██████████| 79/79 [00:01<00:00, 43.10it/s]\n"
     ]
    },
    {
     "name": "stdout",
     "output_type": "stream",
     "text": [
      "测试 | 损失: 0.272 | 准确率: 91.360%\n",
      "\n",
      "第 91 轮训练 (学习率 = 0.000000)\n"
     ]
    },
    {
     "name": "stderr",
     "output_type": "stream",
     "text": [
      "训练: Epoch [91/100]: 100%|██████████| 391/391 [00:25<00:00, 15.06it/s, acc=91.1, loss=0.284]\n",
      "测试:: 100%|██████████| 79/79 [00:01<00:00, 43.54it/s]\n"
     ]
    },
    {
     "name": "stdout",
     "output_type": "stream",
     "text": [
      "测试 | 损失: 0.271 | 准确率: 91.470%\n",
      "\n",
      "第 92 轮训练 (学习率 = 0.000000)\n"
     ]
    },
    {
     "name": "stderr",
     "output_type": "stream",
     "text": [
      "训练: Epoch [92/100]: 100%|██████████| 391/391 [00:26<00:00, 14.99it/s, acc=91.1, loss=0.285]\n",
      "测试:: 100%|██████████| 79/79 [00:01<00:00, 43.50it/s]\n"
     ]
    },
    {
     "name": "stdout",
     "output_type": "stream",
     "text": [
      "测试 | 损失: 0.271 | 准确率: 91.550%\n",
      "\n",
      "第 93 轮训练 (学习率 = 0.000000)\n"
     ]
    },
    {
     "name": "stderr",
     "output_type": "stream",
     "text": [
      "训练: Epoch [93/100]: 100%|██████████| 391/391 [00:26<00:00, 14.99it/s, acc=91.4, loss=0.278]\n",
      "测试:: 100%|██████████| 79/79 [00:01<00:00, 42.37it/s]\n"
     ]
    },
    {
     "name": "stdout",
     "output_type": "stream",
     "text": [
      "测试 | 损失: 0.270 | 准确率: 91.610%\n",
      "\n",
      "第 94 轮训练 (学习率 = 0.000000)\n"
     ]
    },
    {
     "name": "stderr",
     "output_type": "stream",
     "text": [
      "训练: Epoch [94/100]: 100%|██████████| 391/391 [00:25<00:00, 15.06it/s, acc=91.1, loss=0.285]\n",
      "测试:: 100%|██████████| 79/79 [00:01<00:00, 43.95it/s]\n"
     ]
    },
    {
     "name": "stdout",
     "output_type": "stream",
     "text": [
      "测试 | 损失: 0.270 | 准确率: 91.590%\n",
      "Epoch    94: reducing learning rate of group 0 to 1.0000e-08.\n",
      "\n",
      "第 95 轮训练 (学习率 = 0.000000)\n"
     ]
    },
    {
     "name": "stderr",
     "output_type": "stream",
     "text": [
      "训练: Epoch [95/100]: 100%|██████████| 391/391 [00:26<00:00, 14.97it/s, acc=91, loss=0.286]  \n",
      "测试:: 100%|██████████| 79/79 [00:01<00:00, 42.69it/s]\n"
     ]
    },
    {
     "name": "stdout",
     "output_type": "stream",
     "text": [
      "测试 | 损失: 0.270 | 准确率: 91.550%\n",
      "\n",
      "第 96 轮训练 (学习率 = 0.000000)\n"
     ]
    },
    {
     "name": "stderr",
     "output_type": "stream",
     "text": [
      "训练: Epoch [96/100]: 100%|██████████| 391/391 [00:26<00:00, 14.94it/s, acc=91.3, loss=0.277]\n",
      "测试:: 100%|██████████| 79/79 [00:01<00:00, 43.34it/s]\n"
     ]
    },
    {
     "name": "stdout",
     "output_type": "stream",
     "text": [
      "测试 | 损失: 0.271 | 准确率: 91.560%\n",
      "\n",
      "第 97 轮训练 (学习率 = 0.000000)\n"
     ]
    },
    {
     "name": "stderr",
     "output_type": "stream",
     "text": [
      "训练: Epoch [97/100]: 100%|██████████| 391/391 [00:26<00:00, 14.96it/s, acc=91.2, loss=0.282]\n",
      "测试:: 100%|██████████| 79/79 [00:01<00:00, 43.31it/s]\n"
     ]
    },
    {
     "name": "stdout",
     "output_type": "stream",
     "text": [
      "测试 | 损失: 0.272 | 准确率: 91.440%\n",
      "\n",
      "第 98 轮训练 (学习率 = 0.000000)\n"
     ]
    },
    {
     "name": "stderr",
     "output_type": "stream",
     "text": [
      "训练: Epoch [98/100]: 100%|██████████| 391/391 [00:26<00:00, 14.98it/s, acc=91.2, loss=0.285]\n",
      "测试:: 100%|██████████| 79/79 [00:01<00:00, 42.71it/s]\n"
     ]
    },
    {
     "name": "stdout",
     "output_type": "stream",
     "text": [
      "测试 | 损失: 0.271 | 准确率: 91.540%\n",
      "\n",
      "第 99 轮训练 (学习率 = 0.000000)\n"
     ]
    },
    {
     "name": "stderr",
     "output_type": "stream",
     "text": [
      "训练: Epoch [99/100]: 100%|██████████| 391/391 [00:26<00:00, 14.95it/s, acc=91.3, loss=0.28] \n",
      "测试:: 100%|██████████| 79/79 [00:01<00:00, 43.57it/s]\n"
     ]
    },
    {
     "name": "stdout",
     "output_type": "stream",
     "text": [
      "测试 | 损失: 0.270 | 准确率: 91.640%\n",
      "\n",
      "第 100 轮训练 (学习率 = 0.000000)\n"
     ]
    },
    {
     "name": "stderr",
     "output_type": "stream",
     "text": [
      "训练: Epoch [100/100]: 100%|██████████| 391/391 [00:26<00:00, 14.98it/s, acc=91.2, loss=0.282]\n",
      "测试:: 100%|██████████| 79/79 [00:01<00:00, 43.91it/s]\n"
     ]
    },
    {
     "name": "stdout",
     "output_type": "stream",
     "text": [
      "测试 | 损失: 0.268 | 准确率: 91.640%\n",
      "Final model saved!\n"
     ]
    }
   ],
   "source": [
    "\n",
    "# 训练循环\n",
    "epochs = 100\n",
    "\n",
    "# 执行训练\n",
    "model, history = train_model(model, trainloader, testloader, criterion, optimizer, scheduler, epochs, history)\n"
   ]
  },
  {
   "cell_type": "code",
   "execution_count": 4,
   "id": "1c0961e7",
   "metadata": {},
   "outputs": [
    {
     "data": {
      "image/png": "[encoded data removed]",
      "text/plain": [
       "<Figure size 1500x1000 with 3 Axes>"
      ]
     },
     "metadata": {},
     "output_type": "display_data"
    },
    {
     "name": "stdout",
     "output_type": "stream",
     "text": [
      "\n",
      "训练结果总结:\n",
      "最终测试准确率: 91.64%\n",
      "最佳测试准确率: 91.70%\n",
      "最佳准确率出现在第 82 轮\n"
     ]
    }
   ],
   "source": [
    "\n",
    "# 可视化训练过程\n",
    "plt.figure(figsize=(15, 10))\n",
    "\n",
    "# 准确率曲线\n",
    "plt.subplot(2, 2, 1)\n",
    "plt.plot(history['train_accs'], label='Train Accuracy')\n",
    "plt.plot(history['test_accs'], label='Test Accuracy')\n",
    "plt.title('Accuracy')\n",
    "plt.xlabel('Epoch')\n",
    "plt.ylabel('Accuracy (%)')\n",
    "plt.legend()\n",
    "plt.grid(True)\n",
    "\n",
    "# 损失曲线\n",
    "plt.subplot(2, 2, 2)\n",
    "plt.plot(history['train_losses'], label='Train Loss')\n",
    "plt.plot(history['test_losses'], label='Test Loss')\n",
    "plt.title('Loss')\n",
    "plt.xlabel('Epoch')\n",
    "plt.ylabel('Loss')\n",
    "plt.legend()\n",
    "plt.grid(True)\n",
    "\n",
    "# 学习率变化曲线\n",
    "plt.subplot(2, 2, 3)\n",
    "plt.plot(history['lrs'])\n",
    "plt.title('Learning Rate')\n",
    "plt.xlabel('Epoch')\n",
    "plt.ylabel('Learning Rate')\n",
    "plt.yscale('log')\n",
    "plt.grid(True)\n",
    "\n",
    "plt.tight_layout()\n",
    "plt.savefig('vgg13_training_with_augmentation.png')\n",
    "plt.show()\n",
    "\n",
    "# 输出最终结果\n",
    "final_test_acc = history['test_accs'][-1]\n",
    "best_test_acc = max(history['test_accs'])\n",
    "best_epoch = history['test_accs'].index(best_test_acc) + 1\n",
    "\n",
    "print(\"\\n训练结果总结:\")\n",
    "print(f\"最终测试准确率: {final_test_acc:.2f}%\")\n",
    "print(f\"最佳测试准确率: {best_test_acc:.2f}%\")\n",
    "print(f\"最佳准确率出现在第 {best_epoch} 轮\")"
   ]
  }
 ],
 "metadata": {
  "kernelspec": {
   "display_name": "Python 3",
   "language": "python",
   "name": "python3"
  },
  "language_info": {
   "codemirror_mode": {
    "name": "ipython",
    "version": 3
   },
   "file_extension": ".py",
   "mimetype": "text/x-python",
   "name": "python",
   "nbconvert_exporter": "python",
   "pygments_lexer": "ipython3",
   "version": "3.12.3"
  }
 },
 "nbformat": 4,
 "nbformat_minor": 5
}
